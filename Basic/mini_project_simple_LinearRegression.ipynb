{
  "nbformat": 4,
  "nbformat_minor": 2,
  "metadata": {
    "colab": {
      "name": "simple_LinearRegression.ipynb",
      "provenance": [],
      "collapsed_sections": []
    },
    "kernelspec": {
      "name": "python3",
      "display_name": "Python 3"
    },
    "language_info": {
      "name": "python"
    }
  },
  "cells": [
    {
      "cell_type": "markdown",
      "source": [
        "## Import Libraries"
      ],
      "metadata": {
        "id": "q87qka0g5FwM"
      }
    },
    {
      "cell_type": "code",
      "execution_count": 1,
      "source": [
        "import torch \n",
        "import numpy as np\n",
        "import matplotlib.pyplot as plt \n",
        "%matplotlib inline\n",
        "import torch.nn as nn"
      ],
      "outputs": [],
      "metadata": {
        "id": "vDesq7gE3ugR"
      }
    },
    {
      "cell_type": "markdown",
      "source": [
        "## Creating data"
      ],
      "metadata": {
        "id": "VT1XuSTY8awT"
      }
    },
    {
      "cell_type": "code",
      "execution_count": 2,
      "source": [
        "# Creating a tensor \n",
        "X = torch.linspace(1,50, 50).reshape(-1,1)\n",
        "\n",
        "print(X.dtype)\n",
        "print(type(X))\n",
        "print(X.shape)\n",
        "X"
      ],
      "outputs": [
        {
          "output_type": "stream",
          "name": "stdout",
          "text": [
            "torch.float32\n",
            "<class 'torch.Tensor'>\n",
            "torch.Size([50, 1])\n"
          ]
        },
        {
          "output_type": "execute_result",
          "data": {
            "text/plain": [
              "tensor([[ 1.],\n",
              "        [ 2.],\n",
              "        [ 3.],\n",
              "        [ 4.],\n",
              "        [ 5.],\n",
              "        [ 6.],\n",
              "        [ 7.],\n",
              "        [ 8.],\n",
              "        [ 9.],\n",
              "        [10.],\n",
              "        [11.],\n",
              "        [12.],\n",
              "        [13.],\n",
              "        [14.],\n",
              "        [15.],\n",
              "        [16.],\n",
              "        [17.],\n",
              "        [18.],\n",
              "        [19.],\n",
              "        [20.],\n",
              "        [21.],\n",
              "        [22.],\n",
              "        [23.],\n",
              "        [24.],\n",
              "        [25.],\n",
              "        [26.],\n",
              "        [27.],\n",
              "        [28.],\n",
              "        [29.],\n",
              "        [30.],\n",
              "        [31.],\n",
              "        [32.],\n",
              "        [33.],\n",
              "        [34.],\n",
              "        [35.],\n",
              "        [36.],\n",
              "        [37.],\n",
              "        [38.],\n",
              "        [39.],\n",
              "        [40.],\n",
              "        [41.],\n",
              "        [42.],\n",
              "        [43.],\n",
              "        [44.],\n",
              "        [45.],\n",
              "        [46.],\n",
              "        [47.],\n",
              "        [48.],\n",
              "        [49.],\n",
              "        [50.]])"
            ]
          },
          "metadata": {
            "tags": []
          },
          "execution_count": 2
        }
      ],
      "metadata": {
        "colab": {
          "base_uri": "https://localhost:8080/"
        },
        "id": "6WZkK6K85ORJ",
        "outputId": "ab4912e1-dfda-4916-c055-b46542ba05e4"
      }
    },
    {
      "cell_type": "code",
      "execution_count": 3,
      "source": [
        "# Adding noise for function\n",
        "noise = torch.randint(-10,10,(50,1), dtype = torch.float)\n",
        "noise"
      ],
      "outputs": [
        {
          "output_type": "execute_result",
          "data": {
            "text/plain": [
              "tensor([[  3.],\n",
              "        [  1.],\n",
              "        [ -2.],\n",
              "        [ -3.],\n",
              "        [ -4.],\n",
              "        [ -2.],\n",
              "        [-10.],\n",
              "        [  9.],\n",
              "        [ -5.],\n",
              "        [  4.],\n",
              "        [  3.],\n",
              "        [  1.],\n",
              "        [ -9.],\n",
              "        [ -3.],\n",
              "        [ -4.],\n",
              "        [ -6.],\n",
              "        [ -3.],\n",
              "        [ -5.],\n",
              "        [  7.],\n",
              "        [ -7.],\n",
              "        [  1.],\n",
              "        [ -4.],\n",
              "        [  2.],\n",
              "        [ -9.],\n",
              "        [ -4.],\n",
              "        [-10.],\n",
              "        [ -6.],\n",
              "        [ -8.],\n",
              "        [  7.],\n",
              "        [ -5.],\n",
              "        [  2.],\n",
              "        [  1.],\n",
              "        [  8.],\n",
              "        [  7.],\n",
              "        [  0.],\n",
              "        [ -9.],\n",
              "        [  3.],\n",
              "        [ -3.],\n",
              "        [ -1.],\n",
              "        [ -4.],\n",
              "        [ -4.],\n",
              "        [ -9.],\n",
              "        [ -1.],\n",
              "        [ -6.],\n",
              "        [ -2.],\n",
              "        [ -3.],\n",
              "        [ -1.],\n",
              "        [  0.],\n",
              "        [  0.],\n",
              "        [ -3.]])"
            ]
          },
          "metadata": {
            "tags": []
          },
          "execution_count": 3
        }
      ],
      "metadata": {
        "colab": {
          "base_uri": "https://localhost:8080/"
        },
        "id": "4Xbhs1SM5OOU",
        "outputId": "0810c5d0-a7a4-4d48-cd13-57412edc1a6d"
      }
    },
    {
      "cell_type": "code",
      "execution_count": 4,
      "source": [
        "# Function \n",
        "\n",
        "y = 2*X + 1 + noise\n",
        "\n",
        "print(y.dtype)\n",
        "print(type(y))\n",
        "print(y.shape)\n",
        "y"
      ],
      "outputs": [
        {
          "output_type": "stream",
          "name": "stdout",
          "text": [
            "torch.float32\n",
            "<class 'torch.Tensor'>\n",
            "torch.Size([50, 1])\n"
          ]
        },
        {
          "output_type": "execute_result",
          "data": {
            "text/plain": [
              "tensor([[ 6.],\n",
              "        [ 6.],\n",
              "        [ 5.],\n",
              "        [ 6.],\n",
              "        [ 7.],\n",
              "        [11.],\n",
              "        [ 5.],\n",
              "        [26.],\n",
              "        [14.],\n",
              "        [25.],\n",
              "        [26.],\n",
              "        [26.],\n",
              "        [18.],\n",
              "        [26.],\n",
              "        [27.],\n",
              "        [27.],\n",
              "        [32.],\n",
              "        [32.],\n",
              "        [46.],\n",
              "        [34.],\n",
              "        [44.],\n",
              "        [41.],\n",
              "        [49.],\n",
              "        [40.],\n",
              "        [47.],\n",
              "        [43.],\n",
              "        [49.],\n",
              "        [49.],\n",
              "        [66.],\n",
              "        [56.],\n",
              "        [65.],\n",
              "        [66.],\n",
              "        [75.],\n",
              "        [76.],\n",
              "        [71.],\n",
              "        [64.],\n",
              "        [78.],\n",
              "        [74.],\n",
              "        [78.],\n",
              "        [77.],\n",
              "        [79.],\n",
              "        [76.],\n",
              "        [86.],\n",
              "        [83.],\n",
              "        [89.],\n",
              "        [90.],\n",
              "        [94.],\n",
              "        [97.],\n",
              "        [99.],\n",
              "        [98.]])"
            ]
          },
          "metadata": {
            "tags": []
          },
          "execution_count": 4
        }
      ],
      "metadata": {
        "colab": {
          "base_uri": "https://localhost:8080/"
        },
        "id": "G6A1az2_5OLz",
        "outputId": "8eaff3b8-631d-4a57-866c-ab70c0159cea"
      }
    },
    {
      "cell_type": "code",
      "execution_count": 5,
      "source": [
        "# plt does not plot tensor, then we must conver to numpy array\n",
        "X_arr = X.numpy()\n",
        "y_arr = y.numpy()\n",
        "\n",
        "print(X.dtype)\n",
        "print(X_arr.dtype)\n",
        "print(y.dtype)\n",
        "print(y_arr.dtype)\n",
        "plt.scatter(X_arr, y_arr);"
      ],
      "outputs": [
        {
          "output_type": "stream",
          "name": "stdout",
          "text": [
            "torch.float32\n",
            "float32\n",
            "torch.float32\n",
            "float32\n"
          ]
        },
        {
          "output_type": "display_data",
          "data": {
            "text/plain": [
              "<Figure size 432x288 with 1 Axes>"
            ],
            "image/png": "[encoded data removed]"
          },
          "metadata": {
            "tags": [],
            "needs_background": "light"
          }
        }
      ],
      "metadata": {
        "colab": {
          "base_uri": "https://localhost:8080/",
          "height": 333
        },
        "id": "7EdHQmZD5OG0",
        "outputId": "375d102e-9ff5-4e35-d03a-cd37419d1eed"
      }
    },
    {
      "cell_type": "markdown",
      "source": [
        "## Creating Model"
      ],
      "metadata": {
        "id": "7swVsR5f5L0K"
      }
    },
    {
      "cell_type": "code",
      "execution_count": 6,
      "source": [
        "# Defining the model\n",
        "class Model(nn.Module):\n",
        "  def __init__(self, in_features, out_features):\n",
        "    super().__init__()\n",
        "    self.linear = nn.Linear(in_features, out_features)\n",
        "\n",
        "  def forward(self, x):\n",
        "\n",
        "    y_pred = self.linear(x)\n",
        "    return y_pred \n"
      ],
      "outputs": [],
      "metadata": {
        "id": "Xu5Q6AFY8g1I"
      }
    },
    {
      "cell_type": "code",
      "execution_count": 7,
      "source": [
        "# Defining Criterion\n",
        "criterion = nn.MSELoss()\n",
        "learn_rate = 0.001\n",
        "model = Model(1,1)\n",
        "optimizer = torch.optim.SGD(model.parameters(), lr = learn_rate)"
      ],
      "outputs": [],
      "metadata": {
        "id": "wku_yO9Z-6W-"
      }
    },
    {
      "cell_type": "code",
      "execution_count": 8,
      "source": [
        "epochs = 50 \n",
        "losses = []\n",
        "\n",
        "for epoch in range(epochs):\n",
        "\n",
        "  epoch = epoch+1\n",
        "\n",
        "  # Predict on forward pass\n",
        "  y_pred = model.forward(X)\n",
        "\n",
        "  # Calculate the Loss \n",
        "  loss = criterion(y_pred,y)\n",
        "\n",
        "  # Record That Error\n",
        "  losses.append(loss)\n",
        "\n",
        "  # Check progress \n",
        "  print(\"Epoch:{} Loss:{} Weight:{} Bias:{}\".format(epoch,loss.item(),model.linear.weight.item(),model.linear.bias.item()))\n",
        "  \n",
        "  optimizer.zero_grad()\n",
        "\n",
        "  # Backpropagatiton\n",
        "  loss.backward()\n",
        "\n",
        "  # update the hyperparameters\n",
        "  optimizer.step()"
      ],
      "outputs": [
        {
          "output_type": "stream",
          "name": "stdout",
          "text": [
            "Epoch:1 Loss:4903.45361328125 Weight:-0.39299750328063965 Bias:-0.7468934059143066\n",
            "Epoch:2 Loss:2542.560791015625 Weight:3.7008705139160156 Bias:-0.6251967549324036\n",
            "Epoch:3 Loss:1323.7171630859375 Weight:0.7593608498573303 Bias:-0.7125307321548462\n",
            "Epoch:4 Loss:694.4721069335938 Weight:2.872877597808838 Bias:-0.6496730446815491\n",
            "Epoch:5 Loss:369.614990234375 Weight:1.3542801141738892 Bias:-0.6947304606437683\n",
            "Epoch:6 Loss:201.9029541015625 Weight:2.4454123973846436 Bias:-0.6622492671012878\n",
            "Epoch:7 Loss:115.31924438476562 Weight:1.6614139080047607 Bias:-0.6854807734489441\n",
            "Epoch:8 Loss:70.61914825439453 Weight:2.2247257232666016 Bias:-0.6686819195747375\n",
            "Epoch:9 Loss:47.542091369628906 Weight:1.8199743032455444 Bias:-0.6806455850601196\n",
            "Epoch:10 Loss:35.62822341918945 Weight:2.1107914447784424 Bias:-0.6719430088996887\n",
            "Epoch:11 Loss:29.477506637573242 Weight:1.9018316268920898 Bias:-0.6780894994735718\n",
            "Epoch:12 Loss:26.302099227905273 Weight:2.051969289779663 Bias:-0.6735667586326599\n",
            "Epoch:13 Loss:24.662752151489258 Weight:1.9440900087356567 Bias:-0.6767100691795349\n",
            "Epoch:14 Loss:23.8164119720459 Weight:2.021599769592285 Bias:-0.6743452548980713\n",
            "Epoch:15 Loss:23.379480361938477 Weight:1.9659045934677124 Bias:-0.6759381294250488\n",
            "Epoch:16 Loss:23.153902053833008 Weight:2.0059192180633545 Bias:-0.674687385559082\n",
            "Epoch:17 Loss:23.037437438964844 Weight:1.9771651029586792 Bias:-0.6754798889160156\n",
            "Epoch:18 Loss:22.977319717407227 Weight:1.9978221654891968 Bias:-0.6748043298721313\n",
            "Epoch:19 Loss:22.946277618408203 Weight:1.9829765558242798 Bias:-0.6751836538314819\n",
            "Epoch:20 Loss:22.930248260498047 Weight:1.9936401844024658 Bias:-0.6748051047325134\n",
            "Epoch:21 Loss:22.921972274780273 Weight:1.9859750270843506 Bias:-0.6749711632728577\n",
            "Epoch:22 Loss:22.917692184448242 Weight:1.991479516029358 Bias:-0.6747459173202515\n",
            "Epoch:23 Loss:22.91549301147461 Weight:1.9875211715698242 Bias:-0.6748018860816956\n",
            "Epoch:24 Loss:22.914348602294922 Weight:1.990362286567688 Bias:-0.6746558547019958\n",
            "Epoch:25 Loss:22.91375732421875 Weight:1.988317608833313 Bias:-0.674655020236969\n",
            "Epoch:26 Loss:22.913454055786133 Weight:1.9897836446762085 Bias:-0.67454993724823\n",
            "Epoch:27 Loss:22.913288116455078 Weight:1.9887272119522095 Bias:-0.6745197772979736\n",
            "Epoch:28 Loss:22.91320037841797 Weight:1.989483118057251 Bias:-0.6744357943534851\n",
            "Epoch:29 Loss:22.913158416748047 Weight:1.9889369010925293 Bias:-0.6743905544281006\n",
            "Epoch:30 Loss:22.913129806518555 Weight:1.9893262386322021 Bias:-0.6743175387382507\n",
            "Epoch:31 Loss:22.913114547729492 Weight:1.9890432357788086 Bias:-0.6742645502090454\n",
            "Epoch:32 Loss:22.913105010986328 Weight:1.9892433881759644 Bias:-0.674197256565094\n",
            "Epoch:33 Loss:22.913101196289062 Weight:1.9890965223312378 Bias:-0.6741402745246887\n",
            "Epoch:34 Loss:22.91309356689453 Weight:1.989198923110962 Bias:-0.6740759015083313\n",
            "Epoch:35 Loss:22.91309356689453 Weight:1.9891221523284912 Bias:-0.6740168929100037\n",
            "Epoch:36 Loss:22.913087844848633 Weight:1.9891743659973145 Bias:-0.6739540696144104\n",
            "Epoch:37 Loss:22.9130802154541 Weight:1.9891337156295776 Bias:-0.6738940477371216\n",
            "Epoch:38 Loss:22.9130802154541 Weight:1.9891598224639893 Bias:-0.6738320589065552\n",
            "Epoch:39 Loss:22.913076400756836 Weight:1.989137887954712 Bias:-0.6737715601921082\n",
            "Epoch:40 Loss:22.913070678710938 Weight:1.9891505241394043 Bias:-0.6737100481987\n",
            "Epoch:41 Loss:22.913066864013672 Weight:1.9891383647918701 Bias:-0.6736493110656738\n",
            "Epoch:42 Loss:22.913061141967773 Weight:1.989143967628479 Bias:-0.6735880374908447\n",
            "Epoch:43 Loss:22.913061141967773 Weight:1.989136815071106 Bias:-0.673527181148529\n",
            "Epoch:44 Loss:22.91305923461914 Weight:1.9891388416290283 Bias:-0.6734660863876343\n",
            "Epoch:45 Loss:22.913053512573242 Weight:1.9891343116760254 Bias:-0.6734052300453186\n",
            "Epoch:46 Loss:22.91305160522461 Weight:1.989134430885315 Bias:-0.6733442544937134\n",
            "Epoch:47 Loss:22.913049697875977 Weight:1.989131212234497 Bias:-0.6732833981513977\n",
            "Epoch:48 Loss:22.913042068481445 Weight:1.9891304969787598 Bias:-0.673222541809082\n",
            "Epoch:49 Loss:22.913040161132812 Weight:1.9891278743743896 Bias:-0.6731617450714111\n",
            "Epoch:50 Loss:22.913036346435547 Weight:1.9891265630722046 Bias:-0.6731009483337402\n"
          ]
        }
      ],
      "metadata": {
        "colab": {
          "base_uri": "https://localhost:8080/"
        },
        "id": "RK-D-gZIArpQ",
        "outputId": "2f3e17e3-1856-4d8b-a48f-4cc0eff13da9"
      }
    },
    {
      "cell_type": "code",
      "execution_count": 9,
      "source": [
        "plt.plot(range(epochs),losses)\n",
        "plt.ylabel('MSE LOSS')\n",
        "plt.xlabel('EPOCH #');"
      ],
      "outputs": [
        {
          "output_type": "display_data",
          "data": {
            "text/plain": [
              "<Figure size 432x288 with 1 Axes>"
            ],
            "image/png": "[encoded data removed]"
          },
          "metadata": {
            "tags": [],
            "needs_background": "light"
          }
        }
      ],
      "metadata": {
        "colab": {
          "base_uri": "https://localhost:8080/",
          "height": 279
        },
        "id": "9VzcmvmKC0Fn",
        "outputId": "0bc8a856-5aef-4b11-8c01-d99ca725a16e"
      }
    },
    {
      "cell_type": "code",
      "execution_count": 10,
      "source": [
        "x = X_arr\n",
        "\n",
        "current_weight = model.linear.weight.item() \n",
        "current_bias = model.linear.bias.item()\n",
        "\n",
        "pred_y = current_weight*x + current_bias"
      ],
      "outputs": [],
      "metadata": {
        "id": "SSR3NIn4LOk2"
      }
    },
    {
      "cell_type": "code",
      "execution_count": 11,
      "source": [
        "plt.scatter(X_arr, y_arr)\n",
        "plt.plot(x, pred_y, 'r')"
      ],
      "outputs": [
        {
          "output_type": "execute_result",
          "data": {
            "text/plain": [
              "[<matplotlib.lines.Line2D at 0x7f9398601190>]"
            ]
          },
          "metadata": {
            "tags": []
          },
          "execution_count": 11
        },
        {
          "output_type": "display_data",
          "data": {
            "text/plain": [
              "<Figure size 432x288 with 1 Axes>"
            ],
            "image/png": "[encoded data removed]"
          },
          "metadata": {
            "tags": [],
            "needs_background": "light"
          }
        }
      ],
      "metadata": {
        "colab": {
          "base_uri": "https://localhost:8080/",
          "height": 282
        },
        "id": "E9amW8HgMF8j",
        "outputId": "f4a5590c-88b3-475b-8825-a391d0b4c775"
      }
    },
    {
      "cell_type": "code",
      "execution_count": 11,
      "source": [],
      "outputs": [],
      "metadata": {
        "id": "-RWAlvx6MRrn"
      }
    }
  ]
}