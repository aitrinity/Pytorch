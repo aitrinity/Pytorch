{
  "nbformat": 4,
  "nbformat_minor": 0,
  "metadata": {
    "colab": {
      "name": "mini_project_simple_LogisticRegression.ipynb",
      "provenance": [],
      "collapsed_sections": []
    },
    "kernelspec": {
      "name": "python3",
      "display_name": "Python 3"
    },
    "language_info": {
      "name": "python"
    }
  },
  "cells": [
    {
      "cell_type": "code",
      "metadata": {
        "id": "83CdEwhovdq4"
      },
      "source": [
        "import torch\n",
        "import torch.nn as nn\n",
        "import numpy as np\n",
        "from sklearn import datasets\n",
        "from sklearn.preprocessing import StandardScaler\n",
        "from sklearn.model_selection import train_test_split\n",
        "\n",
        "import matplotlib.pyplot as plt\n",
        "import seaborn as sns\n",
        "from sklearn import metrics\n",
        "%matplotlib inline"
      ],
      "execution_count": 1,
      "outputs": []
    },
    {
      "cell_type": "markdown",
      "metadata": {
        "id": "BNpPHzbVwEgQ"
      },
      "source": [
        "#### Preprocessing data"
      ]
    },
    {
      "cell_type": "code",
      "metadata": {
        "colab": {
          "base_uri": "https://localhost:8080/"
        },
        "id": "urylTLvyv8m4",
        "outputId": "27485201-56ef-4c95-c0c3-4ba7b48873b6"
      },
      "source": [
        "# Load data\n",
        "bc = datasets.load_breast_cancer()\n",
        "\n",
        "# Separate Features and Labels\n",
        "X, y = bc.data, bc.target\n",
        "\n",
        "# Getting the n-dim\n",
        "n_samples, n_features = X.shape\n",
        "print(n_samples, n_features)\n"
      ],
      "execution_count": 2,
      "outputs": [
        {
          "output_type": "stream",
          "text": [
            "569 30\n"
          ],
          "name": "stdout"
        }
      ]
    },
    {
      "cell_type": "code",
      "metadata": {
        "id": "MAcV85BzwrsZ"
      },
      "source": [
        "# Split data into training and testing sets\n",
        "\n",
        "def split_scale_convert(x, y, test_size, random_state):\n",
        "  # Split\n",
        "  X_train,X_test,y_train,y_test = train_test_split(x, y, test_size=test_size , random_state=random_state)\n",
        "\n",
        "  # scale data \n",
        "  sc = StandardScaler()\n",
        "  X_train = sc.fit_transform(X_train)\n",
        "  X_test = sc.transform(X_test)\n",
        "\n",
        "  #convert data\n",
        "  X_train = torch.from_numpy(X_train.astype(np.float32))\n",
        "  X_test = torch.from_numpy(X_test.astype(np.float32))\n",
        "  y_train = torch.from_numpy(y_train.astype(np.float32))\n",
        "  y_test = torch.from_numpy(y_test.astype(np.float32))\n",
        "\n",
        "  return X_train,X_test,y_train,y_test "
      ],
      "execution_count": 3,
      "outputs": []
    },
    {
      "cell_type": "code",
      "metadata": {
        "id": "RDNbW7JdzBt4"
      },
      "source": [
        "X_train,X_test,y_train,y_test = split_scale_convert(X, y, 0.2, 1234)"
      ],
      "execution_count": 4,
      "outputs": []
    },
    {
      "cell_type": "code",
      "metadata": {
        "colab": {
          "base_uri": "https://localhost:8080/"
        },
        "id": "e9KjZ18AzNXm",
        "outputId": "31e33817-3f3f-4b42-be31-18bf3b09052e"
      },
      "source": [
        "print(\"Before:\", y_train.shape)\n",
        "y_train = y_train.view(y_train.shape[0], 1)\n",
        "print(\"After:\", y_train.shape)"
      ],
      "execution_count": 5,
      "outputs": [
        {
          "output_type": "stream",
          "text": [
            "Before: torch.Size([455])\n",
            "After: torch.Size([455, 1])\n"
          ],
          "name": "stdout"
        }
      ]
    },
    {
      "cell_type": "code",
      "metadata": {
        "colab": {
          "base_uri": "https://localhost:8080/"
        },
        "id": "zOVU4YjAzn4S",
        "outputId": "b00705bb-996d-435f-d5c6-193bd732d415"
      },
      "source": [
        "print(\"Before:\", y_test.shape)\n",
        "y_test = y_test.view(y_test.shape[0], 1)\n",
        "print(\"After:\", y_test.shape)"
      ],
      "execution_count": 6,
      "outputs": [
        {
          "output_type": "stream",
          "text": [
            "Before: torch.Size([114])\n",
            "After: torch.Size([114, 1])\n"
          ],
          "name": "stdout"
        }
      ]
    },
    {
      "cell_type": "markdown",
      "metadata": {
        "id": "3wXsAP6Wz5Yx"
      },
      "source": [
        "####  Defining Model "
      ]
    },
    {
      "cell_type": "code",
      "metadata": {
        "id": "auxT0mHcz7LX"
      },
      "source": [
        "class Model(nn.Module):\n",
        "    def __init__(self, n_input_features):\n",
        "        super(Model, self).__init__()\n",
        "        self.linear = nn.Linear(n_input_features, 1)\n",
        "\n",
        "    def forward(self, x):\n",
        "        y_pred = torch.sigmoid(self.linear(x))\n",
        "        return y_pred\n",
        "\n",
        "model = Model(n_features)"
      ],
      "execution_count": 7,
      "outputs": []
    },
    {
      "cell_type": "markdown",
      "metadata": {
        "id": "Zkvt7Lu01QHF"
      },
      "source": [
        "#### Defining Loss and Optimizer"
      ]
    },
    {
      "cell_type": "code",
      "metadata": {
        "id": "XWucjbzt04JT"
      },
      "source": [
        "lr = 0.01\n",
        "criterion = nn.BCELoss()\n",
        "optimizer = torch.optim.SGD(model.parameters(),lr=lr)\n",
        "num_epochs = 100\n"
      ],
      "execution_count": 8,
      "outputs": []
    },
    {
      "cell_type": "markdown",
      "metadata": {
        "id": "X3N1hLBG16lP"
      },
      "source": [
        "#### Training Loop"
      ]
    },
    {
      "cell_type": "code",
      "metadata": {
        "colab": {
          "base_uri": "https://localhost:8080/"
        },
        "id": "QVYlYjTd15Mb",
        "outputId": "60cb096e-4a46-471f-97b4-9df0ca5be74b"
      },
      "source": [
        "losses = []\n",
        "\n",
        "for epoch in range(num_epochs):\n",
        "    # Forward pass and loss\n",
        "    y_pred = model(X_train)\n",
        "    loss = criterion(y_pred, y_train)\n",
        "\n",
        "    # Backward pass and update\n",
        "    loss.backward()\n",
        "    optimizer.step()\n",
        "\n",
        "    # zero grad before new step\n",
        "    optimizer.zero_grad()\n",
        "\n",
        "    losses.append(loss)\n",
        "\n",
        "    if (epoch+1) % 10 == 0:\n",
        "        print(f'epoch: {epoch+1}, loss = {loss.item():.4f}')"
      ],
      "execution_count": 9,
      "outputs": [
        {
          "output_type": "stream",
          "text": [
            "epoch: 10, loss = 0.4975\n",
            "epoch: 20, loss = 0.4235\n",
            "epoch: 30, loss = 0.3734\n",
            "epoch: 40, loss = 0.3372\n",
            "epoch: 50, loss = 0.3097\n",
            "epoch: 60, loss = 0.2879\n",
            "epoch: 70, loss = 0.2701\n",
            "epoch: 80, loss = 0.2553\n",
            "epoch: 90, loss = 0.2428\n",
            "epoch: 100, loss = 0.2320\n"
          ],
          "name": "stdout"
        }
      ]
    },
    {
      "cell_type": "markdown",
      "metadata": {
        "id": "kP5Q2b3h89IA"
      },
      "source": [
        "#### Evaluation "
      ]
    },
    {
      "cell_type": "code",
      "metadata": {
        "colab": {
          "base_uri": "https://localhost:8080/"
        },
        "id": "B1VgsFzc8_0n",
        "outputId": "6bd85897-4579-4e65-cc3a-a45b90043f73"
      },
      "source": [
        "with torch.no_grad():\n",
        "    y_predicted = model(X_test)\n",
        "    y_predicted_cls = y_predicted.round()\n",
        "    acc = y_predicted_cls.eq(y_test).sum() / float(y_test.shape[0])\n",
        "    print(f'accuracy: {acc.item():.4f}')"
      ],
      "execution_count": 10,
      "outputs": [
        {
          "output_type": "stream",
          "text": [
            "accuracy: 0.9123\n"
          ],
          "name": "stdout"
        }
      ]
    },
    {
      "cell_type": "code",
      "metadata": {
        "colab": {
          "base_uri": "https://localhost:8080/",
          "height": 278
        },
        "id": "kvw-vFUU69Kv",
        "outputId": "258d03ee-7742-407b-9016-0e2a2957075f"
      },
      "source": [
        "plt.plot(range(num_epochs),losses)\n",
        "plt.ylabel('Binary Cross Entropy')\n",
        "plt.xlabel('EPOCH #');"
      ],
      "execution_count": 11,
      "outputs": [
        {
          "output_type": "display_data",
          "data": {
            "image/png": "[encoded data removed]",
            "text/plain": [
              "<Figure size 432x288 with 1 Axes>"
            ]
          },
          "metadata": {
            "tags": [],
            "needs_background": "light"
          }
        }
      ]
    },
    {
      "cell_type": "code",
      "metadata": {
        "colab": {
          "base_uri": "https://localhost:8080/"
        },
        "id": "y1u5_0DD9r21",
        "outputId": "2a4af11e-6560-415b-bf13-49d2d91bcda4"
      },
      "source": [
        "cm = metrics.confusion_matrix(y_test, y_predicted_cls)\n",
        "print(cm)"
      ],
      "execution_count": 12,
      "outputs": [
        {
          "output_type": "stream",
          "text": [
            "[[38  7]\n",
            " [ 3 66]]\n"
          ],
          "name": "stdout"
        }
      ]
    },
    {
      "cell_type": "code",
      "metadata": {
        "colab": {
          "base_uri": "https://localhost:8080/"
        },
        "id": "lMpaOynP_mam",
        "outputId": "29c8f886-86e0-4d6a-ab69-66222dc2c96d"
      },
      "source": [
        "print(\"True positive: {}\".format(cm[0][0]))\n",
        "print(\"True negative: {}\".format(cm[1][1]))\n",
        "print(\"False positive: {}\".format(cm[0][1]))\n",
        "print(\"False negative: {}\".format(cm[1][0]))"
      ],
      "execution_count": 13,
      "outputs": [
        {
          "output_type": "stream",
          "text": [
            "True positive: 38\n",
            "True negative: 66\n",
            "False positive: 7\n",
            "False negative: 3\n"
          ],
          "name": "stdout"
        }
      ]
    },
    {
      "cell_type": "code",
      "metadata": {
        "colab": {
          "base_uri": "https://localhost:8080/",
          "height": 520
        },
        "id": "KB_dEjPk-KG0",
        "outputId": "29e87bde-1d0d-4a1d-dc3d-dd2a333923c3"
      },
      "source": [
        "plt.figure(figsize=(9,9))\n",
        "sns.heatmap(cm, annot=True, fmt=\".3f\", linewidths=.5, square = True, cmap = 'Blues_r');\n",
        "plt.ylabel('Actual label');\n",
        "plt.xlabel('Predicted label');\n",
        "all_sample_title = 'Accuracy Score: {0}'.format(acc)\n",
        "plt.title(all_sample_title, size = 15);"
      ],
      "execution_count": 14,
      "outputs": [
        {
          "output_type": "display_data",
          "data": {
            "image/png": "[encoded data removed]",
            "text/plain": [
              "<Figure size 648x648 with 2 Axes>"
            ]
          },
          "metadata": {
            "tags": [],
            "needs_background": "light"
          }
        }
      ]
    },
    {
      "cell_type": "code",
      "metadata": {
        "colab": {
          "base_uri": "https://localhost:8080/"
        },
        "id": "8r07nZ-H7NEU",
        "outputId": "e74bd3de-d6e2-48ab-af64-7555e90aba4b"
      },
      "source": [
        "from sklearn.metrics import classification_report\n",
        "\n",
        "target_names = [\"Class 0\", \"Class 1\"]\n",
        "print(classification_report(y_test, y_predicted_cls, target_names=target_names))"
      ],
      "execution_count": 17,
      "outputs": [
        {
          "output_type": "stream",
          "text": [
            "              precision    recall  f1-score   support\n",
            "\n",
            "     Class 0       0.93      0.84      0.88        45\n",
            "     Class 1       0.90      0.96      0.93        69\n",
            "\n",
            "    accuracy                           0.91       114\n",
            "   macro avg       0.92      0.90      0.91       114\n",
            "weighted avg       0.91      0.91      0.91       114\n",
            "\n"
          ],
          "name": "stdout"
        }
      ]
    }
  ]
}