{
  "nbformat": 4,
  "nbformat_minor": 0,
  "metadata": {
    "colab": {
      "name": "04b_dataset_transforms.ipynb",
      "provenance": [],
      "collapsed_sections": []
    },
    "kernelspec": {
      "name": "python3",
      "display_name": "Python 3"
    },
    "language_info": {
      "name": "python"
    }
  },
  "cells": [
    {
      "cell_type": "code",
      "metadata": {
        "id": "qkJsnUgB5TWS"
      },
      "source": [
        "import torch \n",
        "import torchvision\n",
        "from torch.utils.data import Dataset, DataLoader\n",
        "import numpy as np\n",
        "import math\n",
        "\n"
      ],
      "execution_count": 1,
      "outputs": []
    },
    {
      "cell_type": "code",
      "metadata": {
        "id": "5r-1puVb8qyi"
      },
      "source": [
        "class WineDataset(Dataset):\n",
        "\n",
        "  def __init__(self, transform=None):\n",
        "    # data loading\n",
        "    data = np.loadtxt('wine.csv', delimiter=',', dtype = np.float32,skiprows=1)\n",
        "    #self.x = torch.from_numpy(data[:,1:])\n",
        "    #self.y = torch.from_numpy(data[:,[0]]) # n_samples, 1\n",
        "\n",
        "    # Does not need to be converted\n",
        "    self.x = data[:,1:]\n",
        "    self.y = data[:,[0]]\n",
        "\n",
        "\n",
        "    self.n_samples = data.shape[0]\n",
        "    # tranform data \n",
        "    self.transform = transform\n",
        "\n",
        "  def __getitem__(self, index):\n",
        "    # dataset[0]\n",
        "    sample = self.x[index], self.y[index]\n",
        "    if self.transform:\n",
        "      sample = self.transform(sample)\n",
        "    \n",
        "    return sample\n",
        "\n",
        "  def __len__(self):\n",
        "    # len(dataset)\n",
        "    return self.n_samples"
      ],
      "execution_count": 2,
      "outputs": []
    },
    {
      "cell_type": "code",
      "metadata": {
        "id": "XB-L2JM_FgVu"
      },
      "source": [
        "# create class to turn features into tensors \n",
        "\n",
        "class ToTensor:\n",
        "  def __call__(self, sample):\n",
        "    inputs, targets = sample\n",
        "    return torch.from_numpy(inputs), torch.from_numpy(targets)"
      ],
      "execution_count": 3,
      "outputs": []
    },
    {
      "cell_type": "code",
      "metadata": {
        "colab": {
          "base_uri": "https://localhost:8080/"
        },
        "id": "Sk3Z2pAb-Zlp",
        "outputId": "9ef17eeb-10ab-4111-dd05-643cca31afc8"
      },
      "source": [
        "# x and y converted with class ToTensor using transform\n",
        "dataset = WineDataset(transform=ToTensor())\n",
        "\n",
        "first_data = dataset[0]\n",
        "\n",
        "features, labels = first_data\n",
        "\n",
        "\n",
        "print(type(features), type(labels))"
      ],
      "execution_count": 4,
      "outputs": [
        {
          "output_type": "stream",
          "text": [
            "<class 'torch.Tensor'> <class 'torch.Tensor'>\n"
          ],
          "name": "stdout"
        }
      ]
    },
    {
      "cell_type": "code",
      "metadata": {
        "colab": {
          "base_uri": "https://localhost:8080/"
        },
        "id": "1xpExFSX_GGz",
        "outputId": "fc9ccf30-ecc0-4feb-affa-5313256710a8"
      },
      "source": [
        "dataloader = DataLoader(dataset=dataset, batch_size=4, shuffle=True, num_workers=2)\n",
        "\n",
        "# get the next batch\n",
        "dataiter = iter(dataloader)\n",
        "data = dataiter.next()\n",
        "features, labels = data \n",
        "\n",
        "print(features, labels)"
      ],
      "execution_count": 5,
      "outputs": [
        {
          "output_type": "stream",
          "text": [
            "tensor([[1.3170e+01, 2.5900e+00, 2.3700e+00, 2.0000e+01, 1.2000e+02, 1.6500e+00,\n",
            "         6.8000e-01, 5.3000e-01, 1.4600e+00, 9.3000e+00, 6.0000e-01, 1.6200e+00,\n",
            "         8.4000e+02],\n",
            "        [1.4340e+01, 1.6800e+00, 2.7000e+00, 2.5000e+01, 9.8000e+01, 2.8000e+00,\n",
            "         1.3100e+00, 5.3000e-01, 2.7000e+00, 1.3000e+01, 5.7000e-01, 1.9600e+00,\n",
            "         6.6000e+02],\n",
            "        [1.2850e+01, 3.2700e+00, 2.5800e+00, 2.2000e+01, 1.0600e+02, 1.6500e+00,\n",
            "         6.0000e-01, 6.0000e-01, 9.6000e-01, 5.5800e+00, 8.7000e-01, 2.1100e+00,\n",
            "         5.7000e+02],\n",
            "        [1.2080e+01, 1.3300e+00, 2.3000e+00, 2.3600e+01, 7.0000e+01, 2.2000e+00,\n",
            "         1.5900e+00, 4.2000e-01, 1.3800e+00, 1.7400e+00, 1.0700e+00, 3.2100e+00,\n",
            "         6.2500e+02]]) tensor([[3.],\n",
            "        [3.],\n",
            "        [3.],\n",
            "        [2.]])\n"
          ],
          "name": "stdout"
        }
      ]
    },
    {
      "cell_type": "code",
      "metadata": {
        "colab": {
          "base_uri": "https://localhost:8080/"
        },
        "id": "BmpSHkm9CmM0",
        "outputId": "24b95fbc-e715-4f70-f8af-c8c9e0d68c12"
      },
      "source": [
        "n_epochs = 2 \n",
        "# Going through the whole dataset\n",
        "total_samples = len(dataset)\n",
        "n_interations = math.ceil(total_samples/4)\n",
        "\n",
        "print(total_samples,n_interations)"
      ],
      "execution_count": 6,
      "outputs": [
        {
          "output_type": "stream",
          "text": [
            "178 45\n"
          ],
          "name": "stdout"
        }
      ]
    },
    {
      "cell_type": "code",
      "metadata": {
        "colab": {
          "base_uri": "https://localhost:8080/"
        },
        "id": "kv6ob08ZDR1H",
        "outputId": "a277ceae-f6df-4959-fbbd-96b96b51942a"
      },
      "source": [
        "for epoch in range(n_epochs):\n",
        "  for i, (inputs, labels) in enumerate(dataloader):\n",
        "    # here would be the forward, backward and update defs\n",
        "    if(i+1) % 5 == 0:\n",
        "      print(f'epoch {epoch+1}/{n_epochs}, step{i+1}/{n_interations}, inputs {inputs.shape}')"
      ],
      "execution_count": 7,
      "outputs": [
        {
          "output_type": "stream",
          "text": [
            "epoch 1/2, step5/45, inputs torch.Size([4, 13])\n",
            "epoch 1/2, step10/45, inputs torch.Size([4, 13])\n",
            "epoch 1/2, step15/45, inputs torch.Size([4, 13])\n",
            "epoch 1/2, step20/45, inputs torch.Size([4, 13])\n",
            "epoch 1/2, step25/45, inputs torch.Size([4, 13])\n",
            "epoch 1/2, step30/45, inputs torch.Size([4, 13])\n",
            "epoch 1/2, step35/45, inputs torch.Size([4, 13])\n",
            "epoch 1/2, step40/45, inputs torch.Size([4, 13])\n",
            "epoch 1/2, step45/45, inputs torch.Size([2, 13])\n",
            "epoch 2/2, step5/45, inputs torch.Size([4, 13])\n",
            "epoch 2/2, step10/45, inputs torch.Size([4, 13])\n",
            "epoch 2/2, step15/45, inputs torch.Size([4, 13])\n",
            "epoch 2/2, step20/45, inputs torch.Size([4, 13])\n",
            "epoch 2/2, step25/45, inputs torch.Size([4, 13])\n",
            "epoch 2/2, step30/45, inputs torch.Size([4, 13])\n",
            "epoch 2/2, step35/45, inputs torch.Size([4, 13])\n",
            "epoch 2/2, step40/45, inputs torch.Size([4, 13])\n",
            "epoch 2/2, step45/45, inputs torch.Size([2, 13])\n"
          ],
          "name": "stdout"
        }
      ]
    },
    {
      "cell_type": "code",
      "metadata": {
        "id": "5OH0IZhVE5mL"
      },
      "source": [
        "# Explaning: epoch 1/2, step5/45, inputs torch.Size([4, 13])\n",
        "# epoch 1(current epoch)/2 (total of epochs)\n",
        "# Every epoch there are 45 steps\n",
        "# Every 5th steps data is print out \n",
        "# torch.Size([4, 13]) = batch size, 13 different features in each batch"
      ],
      "execution_count": 8,
      "outputs": []
    }
  ]
}