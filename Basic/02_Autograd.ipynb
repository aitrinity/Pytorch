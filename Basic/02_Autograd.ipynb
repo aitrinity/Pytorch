{
  "nbformat": 4,
  "nbformat_minor": 0,
  "metadata": {
    "colab": {
      "name": "02 - pytorch_autograd.ipynb",
      "provenance": [],
      "collapsed_sections": []
    },
    "kernelspec": {
      "name": "python3",
      "display_name": "Python 3"
    },
    "language_info": {
      "name": "python"
    }
  },
  "cells": [
    {
      "cell_type": "code",
      "metadata": {
        "id": "uE-FOpn2SR9C"
      },
      "source": [
        "import torch "
      ],
      "execution_count": 1,
      "outputs": []
    },
    {
      "cell_type": "code",
      "metadata": {
        "id": "AETY8ZKvUYgR"
      },
      "source": [
        "x = torch.randn(3, requires_grad = True)"
      ],
      "execution_count": 2,
      "outputs": []
    },
    {
      "cell_type": "code",
      "metadata": {
        "colab": {
          "base_uri": "https://localhost:8080/"
        },
        "id": "NAXURaYUUjSx",
        "outputId": "7ed62ea6-c55d-49fd-ac59-b9b25ac2c2ee"
      },
      "source": [
        "f = x + 2 \n",
        "\n",
        "print(f) "
      ],
      "execution_count": 3,
      "outputs": [
        {
          "output_type": "stream",
          "text": [
            "tensor([2.4019, 2.1686, 2.1717], grad_fn=<AddBackward0>)\n"
          ],
          "name": "stdout"
        }
      ]
    },
    {
      "cell_type": "code",
      "metadata": {
        "colab": {
          "base_uri": "https://localhost:8080/"
        },
        "id": "nKjoVxmXUoHU",
        "outputId": "da1c235c-074c-4777-c11a-f95faf8aaf43"
      },
      "source": [
        "g = f*f*2\n",
        "print(g)"
      ],
      "execution_count": 4,
      "outputs": [
        {
          "output_type": "stream",
          "text": [
            "tensor([11.5384,  9.4056,  9.4326], grad_fn=<MulBackward0>)\n"
          ],
          "name": "stdout"
        }
      ]
    },
    {
      "cell_type": "code",
      "metadata": {
        "colab": {
          "base_uri": "https://localhost:8080/"
        },
        "id": "VM7qiNk0UvLt",
        "outputId": "f467a0cf-5dab-4ced-c464-5cc593b4c333"
      },
      "source": [
        "h = g.mean()\n",
        "print(h)"
      ],
      "execution_count": 5,
      "outputs": [
        {
          "output_type": "stream",
          "text": [
            "tensor(10.1256, grad_fn=<MeanBackward0>)\n"
          ],
          "name": "stdout"
        }
      ]
    },
    {
      "cell_type": "code",
      "metadata": {
        "id": "0uNGojqaU8pc"
      },
      "source": [
        "h.backward() # dh/dx"
      ],
      "execution_count": 6,
      "outputs": []
    },
    {
      "cell_type": "code",
      "metadata": {
        "colab": {
          "base_uri": "https://localhost:8080/"
        },
        "id": "qJsA-qTxVJ_9",
        "outputId": "55585c54-4cd2-4624-e9a6-5abc50cca4b2"
      },
      "source": [
        "print(x.grad)"
      ],
      "execution_count": 7,
      "outputs": [
        {
          "output_type": "stream",
          "text": [
            "tensor([3.2026, 2.8915, 2.8956])\n"
          ],
          "name": "stdout"
        }
      ]
    },
    {
      "cell_type": "code",
      "metadata": {
        "colab": {
          "base_uri": "https://localhost:8080/"
        },
        "id": "2n17HFZ8VOTm",
        "outputId": "7bb674f1-fe88-4f5c-bcda-db20a4e49cb3"
      },
      "source": [
        "value = float(input(\"Please give a value:\"))"
      ],
      "execution_count": 8,
      "outputs": [
        {
          "output_type": "stream",
          "text": [
            "Please give a value:2\n"
          ],
          "name": "stdout"
        }
      ]
    },
    {
      "cell_type": "code",
      "metadata": {
        "id": "bsNs8XkFVTZl"
      },
      "source": [
        "# function \n",
        "# f(x) = 5x⁴ + 3x³ + 7x² + 9x -5 "
      ],
      "execution_count": 9,
      "outputs": []
    },
    {
      "cell_type": "code",
      "metadata": {
        "colab": {
          "base_uri": "https://localhost:8080/"
        },
        "id": "Opec_ZqNWVp4",
        "outputId": "03268a37-440f-4a0c-cbd5-0d942b9f7031"
      },
      "source": [
        "x = torch.autograd.Variable(torch.Tensor([value]), requires_grad=True)\n",
        "\n",
        "y = 5*x**4 + 3*x**3 + 7*x**2 + 9*x - 5\n",
        "\n",
        "y.backward()\n",
        "x.grad"
      ],
      "execution_count": 10,
      "outputs": [
        {
          "output_type": "execute_result",
          "data": {
            "text/plain": [
              "tensor([233.])"
            ]
          },
          "metadata": {
            "tags": []
          },
          "execution_count": 10
        }
      ]
    },
    {
      "cell_type": "code",
      "metadata": {
        "id": "S4uTDselWobo"
      },
      "source": [
        ""
      ],
      "execution_count": 10,
      "outputs": []
    }
  ]
}