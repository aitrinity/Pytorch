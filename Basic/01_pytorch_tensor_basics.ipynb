{
  "nbformat": 4,
  "nbformat_minor": 0,
  "metadata": {
    "colab": {
      "name": "01 - pytorch_tensor_basics.ipynb",
      "provenance": [],
      "collapsed_sections": [
        "7x_jCzlTM2G-"
      ]
    },
    "kernelspec": {
      "name": "python3",
      "display_name": "Python 3"
    },
    "language_info": {
      "name": "python"
    }
  },
  "cells": [
    {
      "cell_type": "code",
      "metadata": {
        "id": "qXnsOaeusO72"
      },
      "source": [
        "import torch\n",
        "from torch import tensor\n",
        "import numpy as np"
      ],
      "execution_count": 84,
      "outputs": []
    },
    {
      "cell_type": "markdown",
      "metadata": {
        "id": "DXsEpf-y1eJA"
      },
      "source": [
        "# Tensors "
      ]
    },
    {
      "cell_type": "markdown",
      "metadata": {
        "id": "sjGfe6eouIAJ"
      },
      "source": [
        "## Numeric"
      ]
    },
    {
      "cell_type": "markdown",
      "metadata": {
        "id": "YB30ExruFA3r"
      },
      "source": [
        "### Empty"
      ]
    },
    {
      "cell_type": "code",
      "metadata": {
        "colab": {
          "base_uri": "https://localhost:8080/"
        },
        "id": "2oOPjzKlE-ba",
        "outputId": "72552780-70cc-4ef2-9c12-83051579ee92"
      },
      "source": [
        "t0 = torch.empty(2,2,2)\n",
        "\n",
        "t0"
      ],
      "execution_count": 85,
      "outputs": [
        {
          "output_type": "execute_result",
          "data": {
            "text/plain": [
              "tensor([[[-4.3165e+12,  3.0831e-41],\n",
              "         [ 1.1210e-44,  0.0000e+00]],\n",
              "\n",
              "        [[ 1.2612e-44,  0.0000e+00],\n",
              "         [ 4.4721e+21,  1.5956e+25]]])"
            ]
          },
          "metadata": {
            "tags": []
          },
          "execution_count": 85
        }
      ]
    },
    {
      "cell_type": "markdown",
      "metadata": {
        "id": "nTVDY1imGxDU"
      },
      "source": [
        "### Random"
      ]
    },
    {
      "cell_type": "code",
      "metadata": {
        "colab": {
          "base_uri": "https://localhost:8080/"
        },
        "id": "kBkfkvxBFU50",
        "outputId": "d790e2a4-ad5f-41ae-892b-0594a53656ff"
      },
      "source": [
        "t00 = torch.rand(2,2)\n",
        "\n",
        "t00"
      ],
      "execution_count": 86,
      "outputs": [
        {
          "output_type": "execute_result",
          "data": {
            "text/plain": [
              "tensor([[0.5946, 0.4888],\n",
              "        [0.9302, 0.6262]])"
            ]
          },
          "metadata": {
            "tags": []
          },
          "execution_count": 86
        }
      ]
    },
    {
      "cell_type": "code",
      "metadata": {
        "colab": {
          "base_uri": "https://localhost:8080/"
        },
        "id": "mlxirFIHHGTL",
        "outputId": "fc311b87-82ab-4984-80e8-39c0bb537bad"
      },
      "source": [
        "rvalues = torch.rand(2,2, dtype=torch.float64) # set the dtype\n",
        "\n",
        "rvalues\n",
        "print(rvalues.dtype)"
      ],
      "execution_count": 87,
      "outputs": [
        {
          "output_type": "stream",
          "text": [
            "torch.float64\n"
          ],
          "name": "stdout"
        }
      ]
    },
    {
      "cell_type": "markdown",
      "metadata": {
        "id": "YSXnH81zG9DF"
      },
      "source": [
        ""
      ]
    },
    {
      "cell_type": "markdown",
      "metadata": {
        "id": "w_Wcr3TrG1gA"
      },
      "source": [
        "### Zeros"
      ]
    },
    {
      "cell_type": "code",
      "metadata": {
        "colab": {
          "base_uri": "https://localhost:8080/"
        },
        "id": "eJ3g-USnFdHU",
        "outputId": "a953152f-56f5-4f58-fb2b-e9d746fa9438"
      },
      "source": [
        "zeros = torch.zeros(2,2)\n",
        "\n",
        "zeros "
      ],
      "execution_count": 88,
      "outputs": [
        {
          "output_type": "execute_result",
          "data": {
            "text/plain": [
              "tensor([[0., 0.],\n",
              "        [0., 0.]])"
            ]
          },
          "metadata": {
            "tags": []
          },
          "execution_count": 88
        }
      ]
    },
    {
      "cell_type": "markdown",
      "metadata": {
        "id": "gsZ3saTYG4nf"
      },
      "source": [
        "### Ones"
      ]
    },
    {
      "cell_type": "code",
      "metadata": {
        "colab": {
          "base_uri": "https://localhost:8080/"
        },
        "id": "gtcy2yWmFhY0",
        "outputId": "dada0e97-088f-403e-a3f5-3c0056978ef2"
      },
      "source": [
        "ones = torch.ones(2,2)\n",
        "\n",
        "ones"
      ],
      "execution_count": 89,
      "outputs": [
        {
          "output_type": "execute_result",
          "data": {
            "text/plain": [
              "tensor([[1., 1.],\n",
              "        [1., 1.]])"
            ]
          },
          "metadata": {
            "tags": []
          },
          "execution_count": 89
        }
      ]
    },
    {
      "cell_type": "code",
      "metadata": {
        "colab": {
          "base_uri": "https://localhost:8080/"
        },
        "id": "LV9rj61Dszl-",
        "outputId": "eea3985c-3a0f-4162-a1a9-afb65e2f1d64"
      },
      "source": [
        "t1 = tensor(4.)\n",
        "\n",
        "print(t1.dtype)\n",
        "print(type(t1))"
      ],
      "execution_count": 90,
      "outputs": [
        {
          "output_type": "stream",
          "text": [
            "torch.float32\n",
            "<class 'torch.Tensor'>\n"
          ],
          "name": "stdout"
        }
      ]
    },
    {
      "cell_type": "markdown",
      "metadata": {
        "id": "p59-DT9zuOTK"
      },
      "source": [
        "## Vector"
      ]
    },
    {
      "cell_type": "code",
      "metadata": {
        "colab": {
          "base_uri": "https://localhost:8080/"
        },
        "id": "iV0-whtGtT_6",
        "outputId": "9a7f5ba4-0b19-4936-f12d-ba9bf22a0a20"
      },
      "source": [
        "# Create a vector \n",
        "t2 = tensor([1,2,3,4,5])\n",
        "\n",
        "print(t2.dtype)\n",
        "print(type(t2))"
      ],
      "execution_count": 91,
      "outputs": [
        {
          "output_type": "stream",
          "text": [
            "torch.int64\n",
            "<class 'torch.Tensor'>\n"
          ],
          "name": "stdout"
        }
      ]
    },
    {
      "cell_type": "markdown",
      "metadata": {
        "id": "7x_jCzlTM2G-"
      },
      "source": [
        "### Accessing"
      ]
    },
    {
      "cell_type": "code",
      "metadata": {
        "colab": {
          "base_uri": "https://localhost:8080/"
        },
        "id": "ejSGzWjcK46q",
        "outputId": "fa7bfbd5-6ca2-4281-94b3-b9303b187ba0"
      },
      "source": [
        "print(t2[2]) # Accessing items\n",
        "\n",
        "\n",
        "print(t2[0:3]) # Slicing\n",
        "\n",
        "\n",
        "print(t2[-1]) # last item\n",
        "\n",
        "scaler = t2[1].item() # returns the value of this tensor as a standard Python number.\n",
        "\n",
        "print(type(scaler))"
      ],
      "execution_count": 92,
      "outputs": [
        {
          "output_type": "stream",
          "text": [
            "tensor(3)\n",
            "tensor([1, 2, 3])\n",
            "tensor(5)\n",
            "<class 'int'>\n"
          ],
          "name": "stdout"
        }
      ]
    },
    {
      "cell_type": "markdown",
      "metadata": {
        "id": "bz_2w2ZzuaG_"
      },
      "source": [
        "## Matrix"
      ]
    },
    {
      "cell_type": "code",
      "metadata": {
        "colab": {
          "base_uri": "https://localhost:8080/"
        },
        "id": "1h1cjAdftylx",
        "outputId": "d63cffd0-8231-4653-aa57-9ab83b70a918"
      },
      "source": [
        "t3 = tensor([[1,2],[3,4],[5,6]])\n",
        "\n",
        "print(t3.dtype)\n",
        "print(type(t3))\n",
        "\n",
        "t3"
      ],
      "execution_count": 93,
      "outputs": [
        {
          "output_type": "stream",
          "text": [
            "torch.int64\n",
            "<class 'torch.Tensor'>\n"
          ],
          "name": "stdout"
        },
        {
          "output_type": "execute_result",
          "data": {
            "text/plain": [
              "tensor([[1, 2],\n",
              "        [3, 4],\n",
              "        [5, 6]])"
            ]
          },
          "metadata": {
            "tags": []
          },
          "execution_count": 93
        }
      ]
    },
    {
      "cell_type": "code",
      "metadata": {
        "id": "HZVDL99RKon0"
      },
      "source": [
        ""
      ],
      "execution_count": 93,
      "outputs": []
    },
    {
      "cell_type": "markdown",
      "metadata": {
        "id": "mI96mYDvvMYf"
      },
      "source": [
        "## 3D array"
      ]
    },
    {
      "cell_type": "code",
      "metadata": {
        "colab": {
          "base_uri": "https://localhost:8080/"
        },
        "id": "77W6H5XsuZIB",
        "outputId": "d39ec83f-6105-4c6d-e790-a88976ceec28"
      },
      "source": [
        "t4 = tensor([[[1,2],[3,4]],[[5,6],[7,8]]])\n",
        "\n",
        "\n",
        "print(t4.dtype)\n",
        "print(type(t4))\n",
        "\n",
        "t4"
      ],
      "execution_count": 94,
      "outputs": [
        {
          "output_type": "stream",
          "text": [
            "torch.int64\n",
            "<class 'torch.Tensor'>\n"
          ],
          "name": "stdout"
        },
        {
          "output_type": "execute_result",
          "data": {
            "text/plain": [
              "tensor([[[1, 2],\n",
              "         [3, 4]],\n",
              "\n",
              "        [[5, 6],\n",
              "         [7, 8]]])"
            ]
          },
          "metadata": {
            "tags": []
          },
          "execution_count": 94
        }
      ]
    },
    {
      "cell_type": "markdown",
      "metadata": {
        "id": "eSpiwyqWv-kq"
      },
      "source": [
        "## Checking Tensors Shapes"
      ]
    },
    {
      "cell_type": "code",
      "metadata": {
        "colab": {
          "base_uri": "https://localhost:8080/"
        },
        "id": "n7OyHgCDvjyx",
        "outputId": "3753db66-3e50-4595-a9b4-864481147e30"
      },
      "source": [
        "print(t1)\n",
        "t1.shape"
      ],
      "execution_count": 95,
      "outputs": [
        {
          "output_type": "stream",
          "text": [
            "tensor(4.)\n"
          ],
          "name": "stdout"
        },
        {
          "output_type": "execute_result",
          "data": {
            "text/plain": [
              "torch.Size([])"
            ]
          },
          "metadata": {
            "tags": []
          },
          "execution_count": 95
        }
      ]
    },
    {
      "cell_type": "code",
      "metadata": {
        "colab": {
          "base_uri": "https://localhost:8080/"
        },
        "id": "RjMP3WSIwE2i",
        "outputId": "e7aa2850-8c26-4c23-947a-34d9a4cc1641"
      },
      "source": [
        "print(t2)\n",
        "t2.shape"
      ],
      "execution_count": 96,
      "outputs": [
        {
          "output_type": "stream",
          "text": [
            "tensor([1, 2, 3, 4, 5])\n"
          ],
          "name": "stdout"
        },
        {
          "output_type": "execute_result",
          "data": {
            "text/plain": [
              "torch.Size([5])"
            ]
          },
          "metadata": {
            "tags": []
          },
          "execution_count": 96
        }
      ]
    },
    {
      "cell_type": "code",
      "metadata": {
        "colab": {
          "base_uri": "https://localhost:8080/"
        },
        "id": "IcEpliu6wEwL",
        "outputId": "fde3469d-4bfc-4ac2-9891-e3bd50ee96a0"
      },
      "source": [
        "print(t3)\n",
        "t3.shape"
      ],
      "execution_count": 97,
      "outputs": [
        {
          "output_type": "stream",
          "text": [
            "tensor([[1, 2],\n",
            "        [3, 4],\n",
            "        [5, 6]])\n"
          ],
          "name": "stdout"
        },
        {
          "output_type": "execute_result",
          "data": {
            "text/plain": [
              "torch.Size([3, 2])"
            ]
          },
          "metadata": {
            "tags": []
          },
          "execution_count": 97
        }
      ]
    },
    {
      "cell_type": "code",
      "metadata": {
        "colab": {
          "base_uri": "https://localhost:8080/"
        },
        "id": "B8wEEj-WwIHb",
        "outputId": "c488cf6f-8c25-46d8-e182-f85982f962f5"
      },
      "source": [
        "print(t4)\n",
        "t4.shape"
      ],
      "execution_count": 98,
      "outputs": [
        {
          "output_type": "stream",
          "text": [
            "tensor([[[1, 2],\n",
            "         [3, 4]],\n",
            "\n",
            "        [[5, 6],\n",
            "         [7, 8]]])\n"
          ],
          "name": "stdout"
        },
        {
          "output_type": "execute_result",
          "data": {
            "text/plain": [
              "torch.Size([2, 2, 2])"
            ]
          },
          "metadata": {
            "tags": []
          },
          "execution_count": 98
        }
      ]
    },
    {
      "cell_type": "markdown",
      "metadata": {
        "id": "5MnzS2BV1kDo"
      },
      "source": [
        "# Tensor operations and gradients"
      ]
    },
    {
      "cell_type": "code",
      "metadata": {
        "id": "hZmpC5RewJrg"
      },
      "source": [
        "x = tensor(4., requires_grad=True)\n",
        "w = tensor(5., requires_grad=True)\n",
        "z = tensor(4., requires_grad=True)"
      ],
      "execution_count": 99,
      "outputs": []
    },
    {
      "cell_type": "code",
      "metadata": {
        "colab": {
          "base_uri": "https://localhost:8080/"
        },
        "id": "zBiH33111i-i",
        "outputId": "6ee45adb-6747-4b1e-dd96-7b072f189857"
      },
      "source": [
        "# Arithmetic Operation\n",
        "\n",
        "a = x * w + z\n",
        "\n",
        "a"
      ],
      "execution_count": 100,
      "outputs": [
        {
          "output_type": "execute_result",
          "data": {
            "text/plain": [
              "tensor(24., grad_fn=<AddBackward0>)"
            ]
          },
          "metadata": {
            "tags": []
          },
          "execution_count": 100
        }
      ]
    },
    {
      "cell_type": "code",
      "metadata": {
        "id": "z1SXXutf3cuA"
      },
      "source": [
        "# Compute Derivatives\n",
        "a.backward()"
      ],
      "execution_count": 101,
      "outputs": []
    },
    {
      "cell_type": "code",
      "metadata": {
        "colab": {
          "base_uri": "https://localhost:8080/"
        },
        "id": "HkdJ1R4D3sKV",
        "outputId": "d39ed537-73d6-434d-f957-2d6ad29d76da"
      },
      "source": [
        "# Display Gradients \n",
        "print(\"dy/dx:\",x.grad)\n",
        "print(\"dy/dw:\",w.grad)\n",
        "print(\"dy/dz:\",z.grad)"
      ],
      "execution_count": 102,
      "outputs": [
        {
          "output_type": "stream",
          "text": [
            "dy/dx: tensor(5.)\n",
            "dy/dw: tensor(4.)\n",
            "dy/dz: tensor(1.)\n"
          ],
          "name": "stdout"
        }
      ]
    },
    {
      "cell_type": "code",
      "metadata": {
        "id": "UsMzj1OX3vaq",
        "colab": {
          "base_uri": "https://localhost:8080/"
        },
        "outputId": "f5b4da48-950b-4e4d-e6cf-14b97fdf53c1"
      },
      "source": [
        "r = tensor([1,2,3])\n",
        "q = tensor([4,5,6])\n",
        "\n",
        "m = r + q \n",
        "\n",
        "print(m)\n",
        "print(torch.add(r,q))"
      ],
      "execution_count": 103,
      "outputs": [
        {
          "output_type": "stream",
          "text": [
            "tensor([5, 7, 9])\n",
            "tensor([5, 7, 9])\n"
          ],
          "name": "stdout"
        }
      ]
    },
    {
      "cell_type": "code",
      "metadata": {
        "colab": {
          "base_uri": "https://localhost:8080/"
        },
        "id": "NQinJbuGIm6T",
        "outputId": "39745147-c642-4e6c-dfd8-8d958ad99b15"
      },
      "source": [
        "r = tensor([1,2,3])\n",
        "q = tensor([4,5,6])\n",
        "\n",
        "m = r - q \n",
        "\n",
        "print(m)\n",
        "print(torch.subtract(r,q))"
      ],
      "execution_count": 104,
      "outputs": [
        {
          "output_type": "stream",
          "text": [
            "tensor([-3, -3, -3])\n",
            "tensor([-3, -3, -3])\n"
          ],
          "name": "stdout"
        }
      ]
    },
    {
      "cell_type": "code",
      "metadata": {
        "colab": {
          "base_uri": "https://localhost:8080/"
        },
        "id": "uTEimVF-IWxL",
        "outputId": "c3e1140c-4e6e-4e45-dd5e-01806263af55"
      },
      "source": [
        "r = tensor([1,2,3])\n",
        "q = tensor([4,5,6])\n",
        "\n",
        "# Basic Arithmetics \n",
        "print(torch.add(r,q))\n",
        "print(torch.subtract(r,q))\n",
        "print(torch.multiply(r,q))\n",
        "print(torch.divide(r,q))"
      ],
      "execution_count": 105,
      "outputs": [
        {
          "output_type": "stream",
          "text": [
            "tensor([5, 7, 9])\n",
            "tensor([-3, -3, -3])\n",
            "tensor([ 4, 10, 18])\n",
            "tensor([0.2500, 0.4000, 0.5000])\n"
          ],
          "name": "stdout"
        }
      ]
    },
    {
      "cell_type": "code",
      "metadata": {
        "colab": {
          "base_uri": "https://localhost:8080/"
        },
        "id": "Qt1rU3P8JMwh",
        "outputId": "cc448773-b796-4b2c-d9ca-7deee95ef3ac"
      },
      "source": [
        "# add value to each item \n",
        "\n",
        "z = r.add(3)\n",
        "print(r)\n",
        "print(z)\n",
        "\n",
        "z = r.add_(3) # will change the values of the r tensor as well\n",
        "print(r)\n",
        "print(z)"
      ],
      "execution_count": 106,
      "outputs": [
        {
          "output_type": "stream",
          "text": [
            "tensor([1, 2, 3])\n",
            "tensor([4, 5, 6])\n",
            "tensor([4, 5, 6])\n",
            "tensor([4, 5, 6])\n"
          ],
          "name": "stdout"
        }
      ]
    },
    {
      "cell_type": "markdown",
      "metadata": {
        "id": "2uI6_4EJ8D1q"
      },
      "source": [
        "# Convert a Numpy array to Pytorch Tensor"
      ]
    },
    {
      "cell_type": "code",
      "metadata": {
        "colab": {
          "base_uri": "https://localhost:8080/"
        },
        "id": "tgQJ_9jB8KQd",
        "outputId": "bfd7d177-c4ed-4e02-fb08-5bb07c0576fb"
      },
      "source": [
        "arr = np.array([1,2,3,4])\n",
        "\n",
        "x = torch.from_numpy(arr)\n",
        "\n",
        "print(arr.dtype)\n",
        "print(type(arr))\n",
        "\n",
        "print(x.dtype)\n",
        "print(type(x))"
      ],
      "execution_count": 107,
      "outputs": [
        {
          "output_type": "stream",
          "text": [
            "int64\n",
            "<class 'numpy.ndarray'>\n",
            "torch.int64\n",
            "<class 'torch.Tensor'>\n"
          ],
          "name": "stdout"
        }
      ]
    },
    {
      "cell_type": "markdown",
      "metadata": {
        "id": "n977AonWAKVY"
      },
      "source": [
        "#Convert a Pytorch Tensor to Numpy array"
      ]
    },
    {
      "cell_type": "code",
      "metadata": {
        "colab": {
          "base_uri": "https://localhost:8080/"
        },
        "id": "ONer7iAC9wCM",
        "outputId": "1619c2d7-a766-4d67-93f3-e64758ace048"
      },
      "source": [
        "to_numpy = x.numpy()\n",
        "\n",
        "print(to_numpy.dtype)\n",
        "print(type(to_numpy))"
      ],
      "execution_count": 108,
      "outputs": [
        {
          "output_type": "stream",
          "text": [
            "int64\n",
            "<class 'numpy.ndarray'>\n"
          ],
          "name": "stdout"
        }
      ]
    }
  ]
}