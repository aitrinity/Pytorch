{
  "nbformat": 4,
  "nbformat_minor": 0,
  "metadata": {
    "colab": {
      "name": "TaxiFares.ipynb",
      "provenance": [],
      "collapsed_sections": []
    },
    "kernelspec": {
      "name": "python3",
      "display_name": "Python 3"
    },
    "language_info": {
      "name": "python"
    }
  },
  "cells": [
    {
      "cell_type": "markdown",
      "metadata": {
        "id": "r7eRTfUJi0oK"
      },
      "source": [
        "## Import Libraries"
      ]
    },
    {
      "cell_type": "code",
      "metadata": {
        "id": "5gyBwOI_id8C"
      },
      "source": [
        "import pandas as pd \n",
        "import numpy as np\n",
        "import matplotlib.pyplot as plt\n",
        "%matplotlib inline\n",
        "from random import sample\n",
        "import torch\n",
        "import torch.nn as nn "
      ],
      "execution_count": null,
      "outputs": []
    },
    {
      "cell_type": "markdown",
      "metadata": {
        "id": "R4Qz0X6Mi-wD"
      },
      "source": [
        "## EDA"
      ]
    },
    {
      "cell_type": "code",
      "metadata": {
        "id": "Fcm7I5e3jA7S"
      },
      "source": [
        "df = pd.read_csv(\"NYCTaxiFares.csv\")"
      ],
      "execution_count": null,
      "outputs": []
    },
    {
      "cell_type": "code",
      "metadata": {
        "colab": {
          "base_uri": "https://localhost:8080/",
          "height": 204
        },
        "id": "05zPhytFjR-S",
        "outputId": "4a520d72-abfc-495f-847e-c126b0aa9b6c"
      },
      "source": [
        "df.head(5)"
      ],
      "execution_count": null,
      "outputs": [
        {
          "output_type": "execute_result",
          "data": {
            "text/html": [
              "<div>\n",
              "<style scoped>\n",
              "    .dataframe tbody tr th:only-of-type {\n",
              "        vertical-align: middle;\n",
              "    }\n",
              "\n",
              "    .dataframe tbody tr th {\n",
              "        vertical-align: top;\n",
              "    }\n",
              "\n",
              "    .dataframe thead th {\n",
              "        text-align: right;\n",
              "    }\n",
              "</style>\n",
              "<table border=\"1\" class=\"dataframe\">\n",
              "  <thead>\n",
              "    <tr style=\"text-align: right;\">\n",
              "      <th></th>\n",
              "      <th>pickup_datetime</th>\n",
              "      <th>fare_amount</th>\n",
              "      <th>fare_class</th>\n",
              "      <th>pickup_longitude</th>\n",
              "      <th>pickup_latitude</th>\n",
              "      <th>dropoff_longitude</th>\n",
              "      <th>dropoff_latitude</th>\n",
              "      <th>passenger_count</th>\n",
              "    </tr>\n",
              "  </thead>\n",
              "  <tbody>\n",
              "    <tr>\n",
              "      <th>0</th>\n",
              "      <td>2010-04-19 08:17:56 UTC</td>\n",
              "      <td>6.5</td>\n",
              "      <td>0</td>\n",
              "      <td>-73.992365</td>\n",
              "      <td>40.730521</td>\n",
              "      <td>-73.975499</td>\n",
              "      <td>40.744746</td>\n",
              "      <td>1</td>\n",
              "    </tr>\n",
              "    <tr>\n",
              "      <th>1</th>\n",
              "      <td>2010-04-17 15:43:53 UTC</td>\n",
              "      <td>6.9</td>\n",
              "      <td>0</td>\n",
              "      <td>-73.990078</td>\n",
              "      <td>40.740558</td>\n",
              "      <td>-73.974232</td>\n",
              "      <td>40.744114</td>\n",
              "      <td>1</td>\n",
              "    </tr>\n",
              "    <tr>\n",
              "      <th>2</th>\n",
              "      <td>2010-04-17 11:23:26 UTC</td>\n",
              "      <td>10.1</td>\n",
              "      <td>1</td>\n",
              "      <td>-73.994149</td>\n",
              "      <td>40.751118</td>\n",
              "      <td>-73.960064</td>\n",
              "      <td>40.766235</td>\n",
              "      <td>2</td>\n",
              "    </tr>\n",
              "    <tr>\n",
              "      <th>3</th>\n",
              "      <td>2010-04-11 21:25:03 UTC</td>\n",
              "      <td>8.9</td>\n",
              "      <td>0</td>\n",
              "      <td>-73.990485</td>\n",
              "      <td>40.756422</td>\n",
              "      <td>-73.971205</td>\n",
              "      <td>40.748192</td>\n",
              "      <td>1</td>\n",
              "    </tr>\n",
              "    <tr>\n",
              "      <th>4</th>\n",
              "      <td>2010-04-17 02:19:01 UTC</td>\n",
              "      <td>19.7</td>\n",
              "      <td>1</td>\n",
              "      <td>-73.990976</td>\n",
              "      <td>40.734202</td>\n",
              "      <td>-73.905956</td>\n",
              "      <td>40.743115</td>\n",
              "      <td>1</td>\n",
              "    </tr>\n",
              "  </tbody>\n",
              "</table>\n",
              "</div>"
            ],
            "text/plain": [
              "           pickup_datetime  fare_amount  ...  dropoff_latitude  passenger_count\n",
              "0  2010-04-19 08:17:56 UTC          6.5  ...         40.744746                1\n",
              "1  2010-04-17 15:43:53 UTC          6.9  ...         40.744114                1\n",
              "2  2010-04-17 11:23:26 UTC         10.1  ...         40.766235                2\n",
              "3  2010-04-11 21:25:03 UTC          8.9  ...         40.748192                1\n",
              "4  2010-04-17 02:19:01 UTC         19.7  ...         40.743115                1\n",
              "\n",
              "[5 rows x 8 columns]"
            ]
          },
          "metadata": {
            "tags": []
          },
          "execution_count": 195
        }
      ]
    },
    {
      "cell_type": "code",
      "metadata": {
        "colab": {
          "base_uri": "https://localhost:8080/"
        },
        "id": "NhxQRgrHjfvM",
        "outputId": "f63a1921-d725-4fdd-d793-b7993790ae2a"
      },
      "source": [
        "df['fare_amount'].describe()"
      ],
      "execution_count": null,
      "outputs": [
        {
          "output_type": "execute_result",
          "data": {
            "text/plain": [
              "count    120000.000000\n",
              "mean         10.040326\n",
              "std           7.500134\n",
              "min           2.500000\n",
              "25%           5.700000\n",
              "50%           7.700000\n",
              "75%          11.300000\n",
              "max          49.900000\n",
              "Name: fare_amount, dtype: float64"
            ]
          },
          "metadata": {
            "tags": []
          },
          "execution_count": 196
        }
      ]
    },
    {
      "cell_type": "code",
      "metadata": {
        "id": "P7llcud6kEIi"
      },
      "source": [
        "def haversine_distance(df, lat1, long1, lat2, long2):\n",
        "    \"\"\"\n",
        "    Calculates the haversine distance between 2 sets of GPS coordinates in df\n",
        "    \"\"\"\n",
        "    r = 6371  # average radius of Earth in kilometers\n",
        "       \n",
        "    phi1 = np.radians(df[lat1])\n",
        "    phi2 = np.radians(df[lat2])\n",
        "    \n",
        "    delta_phi = np.radians(df[lat2]-df[lat1])\n",
        "    delta_lambda = np.radians(df[long2]-df[long1])\n",
        "     \n",
        "    a = np.sin(delta_phi/2)**2 + np.cos(phi1) * np.cos(phi2) * np.sin(delta_lambda/2)**2\n",
        "    c = 2 * np.arctan2(np.sqrt(a), np.sqrt(1-a))\n",
        "    d = (r * c) # in kilometers\n",
        "\n",
        "    return d"
      ],
      "execution_count": null,
      "outputs": []
    },
    {
      "cell_type": "code",
      "metadata": {
        "id": "PEAbDNPXkYRO"
      },
      "source": [
        "df['dist_km'] = haversine_distance(df, 'pickup_latitude', 'pickup_longitude','dropoff_latitude', 'dropoff_longitude')\n",
        "\n"
      ],
      "execution_count": null,
      "outputs": []
    },
    {
      "cell_type": "code",
      "metadata": {
        "colab": {
          "base_uri": "https://localhost:8080/",
          "height": 193
        },
        "id": "we9pnkTPml_i",
        "outputId": "5b686539-7c5f-45f7-9839-3864a29fba26"
      },
      "source": [
        "df.head(3)"
      ],
      "execution_count": null,
      "outputs": [
        {
          "output_type": "execute_result",
          "data": {
            "text/html": [
              "<div>\n",
              "<style scoped>\n",
              "    .dataframe tbody tr th:only-of-type {\n",
              "        vertical-align: middle;\n",
              "    }\n",
              "\n",
              "    .dataframe tbody tr th {\n",
              "        vertical-align: top;\n",
              "    }\n",
              "\n",
              "    .dataframe thead th {\n",
              "        text-align: right;\n",
              "    }\n",
              "</style>\n",
              "<table border=\"1\" class=\"dataframe\">\n",
              "  <thead>\n",
              "    <tr style=\"text-align: right;\">\n",
              "      <th></th>\n",
              "      <th>pickup_datetime</th>\n",
              "      <th>fare_amount</th>\n",
              "      <th>fare_class</th>\n",
              "      <th>pickup_longitude</th>\n",
              "      <th>pickup_latitude</th>\n",
              "      <th>dropoff_longitude</th>\n",
              "      <th>dropoff_latitude</th>\n",
              "      <th>passenger_count</th>\n",
              "      <th>dist_km</th>\n",
              "    </tr>\n",
              "  </thead>\n",
              "  <tbody>\n",
              "    <tr>\n",
              "      <th>0</th>\n",
              "      <td>2010-04-19 08:17:56 UTC</td>\n",
              "      <td>6.5</td>\n",
              "      <td>0</td>\n",
              "      <td>-73.992365</td>\n",
              "      <td>40.730521</td>\n",
              "      <td>-73.975499</td>\n",
              "      <td>40.744746</td>\n",
              "      <td>1</td>\n",
              "      <td>2.126312</td>\n",
              "    </tr>\n",
              "    <tr>\n",
              "      <th>1</th>\n",
              "      <td>2010-04-17 15:43:53 UTC</td>\n",
              "      <td>6.9</td>\n",
              "      <td>0</td>\n",
              "      <td>-73.990078</td>\n",
              "      <td>40.740558</td>\n",
              "      <td>-73.974232</td>\n",
              "      <td>40.744114</td>\n",
              "      <td>1</td>\n",
              "      <td>1.392307</td>\n",
              "    </tr>\n",
              "    <tr>\n",
              "      <th>2</th>\n",
              "      <td>2010-04-17 11:23:26 UTC</td>\n",
              "      <td>10.1</td>\n",
              "      <td>1</td>\n",
              "      <td>-73.994149</td>\n",
              "      <td>40.751118</td>\n",
              "      <td>-73.960064</td>\n",
              "      <td>40.766235</td>\n",
              "      <td>2</td>\n",
              "      <td>3.326763</td>\n",
              "    </tr>\n",
              "  </tbody>\n",
              "</table>\n",
              "</div>"
            ],
            "text/plain": [
              "           pickup_datetime  fare_amount  ...  passenger_count   dist_km\n",
              "0  2010-04-19 08:17:56 UTC          6.5  ...                1  2.126312\n",
              "1  2010-04-17 15:43:53 UTC          6.9  ...                1  1.392307\n",
              "2  2010-04-17 11:23:26 UTC         10.1  ...                2  3.326763\n",
              "\n",
              "[3 rows x 9 columns]"
            ]
          },
          "metadata": {
            "tags": []
          },
          "execution_count": 199
        }
      ]
    },
    {
      "cell_type": "code",
      "metadata": {
        "colab": {
          "base_uri": "https://localhost:8080/"
        },
        "id": "GhSTaln9m2gO",
        "outputId": "5f9a67d8-9e5f-481f-b5c7-25eaa1deafde"
      },
      "source": [
        "df.info()"
      ],
      "execution_count": null,
      "outputs": [
        {
          "output_type": "stream",
          "text": [
            "<class 'pandas.core.frame.DataFrame'>\n",
            "RangeIndex: 120000 entries, 0 to 119999\n",
            "Data columns (total 9 columns):\n",
            " #   Column             Non-Null Count   Dtype  \n",
            "---  ------             --------------   -----  \n",
            " 0   pickup_datetime    120000 non-null  object \n",
            " 1   fare_amount        120000 non-null  float64\n",
            " 2   fare_class         120000 non-null  int64  \n",
            " 3   pickup_longitude   120000 non-null  float64\n",
            " 4   pickup_latitude    120000 non-null  float64\n",
            " 5   dropoff_longitude  120000 non-null  float64\n",
            " 6   dropoff_latitude   120000 non-null  float64\n",
            " 7   passenger_count    120000 non-null  int64  \n",
            " 8   dist_km            120000 non-null  float64\n",
            "dtypes: float64(6), int64(2), object(1)\n",
            "memory usage: 8.2+ MB\n"
          ],
          "name": "stdout"
        }
      ]
    },
    {
      "cell_type": "code",
      "metadata": {
        "id": "XRZnAlJ6nPxs"
      },
      "source": [
        "df['pickup_datetime'] = pd.to_datetime(df['pickup_datetime'])"
      ],
      "execution_count": null,
      "outputs": []
    },
    {
      "cell_type": "code",
      "metadata": {
        "colab": {
          "base_uri": "https://localhost:8080/"
        },
        "id": "LMTW69okoSIv",
        "outputId": "46c325d7-7262-4fc5-a3f4-15bd019bb5c4"
      },
      "source": [
        "df.info()"
      ],
      "execution_count": null,
      "outputs": [
        {
          "output_type": "stream",
          "text": [
            "<class 'pandas.core.frame.DataFrame'>\n",
            "RangeIndex: 120000 entries, 0 to 119999\n",
            "Data columns (total 9 columns):\n",
            " #   Column             Non-Null Count   Dtype              \n",
            "---  ------             --------------   -----              \n",
            " 0   pickup_datetime    120000 non-null  datetime64[ns, UTC]\n",
            " 1   fare_amount        120000 non-null  float64            \n",
            " 2   fare_class         120000 non-null  int64              \n",
            " 3   pickup_longitude   120000 non-null  float64            \n",
            " 4   pickup_latitude    120000 non-null  float64            \n",
            " 5   dropoff_longitude  120000 non-null  float64            \n",
            " 6   dropoff_latitude   120000 non-null  float64            \n",
            " 7   passenger_count    120000 non-null  int64              \n",
            " 8   dist_km            120000 non-null  float64            \n",
            "dtypes: datetime64[ns, UTC](1), float64(6), int64(2)\n",
            "memory usage: 8.2 MB\n"
          ],
          "name": "stdout"
        }
      ]
    },
    {
      "cell_type": "code",
      "metadata": {
        "colab": {
          "base_uri": "https://localhost:8080/"
        },
        "id": "xFJiZlcVoZEC",
        "outputId": "3593a331-bc02-436c-ff21-e711e9ed61e8"
      },
      "source": [
        "my_time = df['pickup_datetime'][0]\n",
        "\n",
        "my_time.hour"
      ],
      "execution_count": null,
      "outputs": [
        {
          "output_type": "execute_result",
          "data": {
            "text/plain": [
              "8"
            ]
          },
          "metadata": {
            "tags": []
          },
          "execution_count": 203
        }
      ]
    },
    {
      "cell_type": "code",
      "metadata": {
        "id": "5yNL1p6zrGFO"
      },
      "source": [
        "df['EDTdate'] = df['pickup_datetime'] - pd.Timedelta(hours=4)"
      ],
      "execution_count": null,
      "outputs": []
    },
    {
      "cell_type": "code",
      "metadata": {
        "id": "quAycrVRrSk9"
      },
      "source": [
        "df['Hour'] = df['EDTdate'].dt.hour"
      ],
      "execution_count": null,
      "outputs": []
    },
    {
      "cell_type": "code",
      "metadata": {
        "id": "eLux4GKarfl5"
      },
      "source": [
        "df['AM_PM'] = np.where(df['Hour'] < 12, 'am', 'pm')"
      ],
      "execution_count": null,
      "outputs": []
    },
    {
      "cell_type": "code",
      "metadata": {
        "colab": {
          "base_uri": "https://localhost:8080/",
          "height": 261
        },
        "id": "4yy-Oi5Qsiu3",
        "outputId": "2e46295a-acf8-4398-8205-bf133be6a9b9"
      },
      "source": [
        "df.head(4)"
      ],
      "execution_count": null,
      "outputs": [
        {
          "output_type": "execute_result",
          "data": {
            "text/html": [
              "<div>\n",
              "<style scoped>\n",
              "    .dataframe tbody tr th:only-of-type {\n",
              "        vertical-align: middle;\n",
              "    }\n",
              "\n",
              "    .dataframe tbody tr th {\n",
              "        vertical-align: top;\n",
              "    }\n",
              "\n",
              "    .dataframe thead th {\n",
              "        text-align: right;\n",
              "    }\n",
              "</style>\n",
              "<table border=\"1\" class=\"dataframe\">\n",
              "  <thead>\n",
              "    <tr style=\"text-align: right;\">\n",
              "      <th></th>\n",
              "      <th>pickup_datetime</th>\n",
              "      <th>fare_amount</th>\n",
              "      <th>fare_class</th>\n",
              "      <th>pickup_longitude</th>\n",
              "      <th>pickup_latitude</th>\n",
              "      <th>dropoff_longitude</th>\n",
              "      <th>dropoff_latitude</th>\n",
              "      <th>passenger_count</th>\n",
              "      <th>dist_km</th>\n",
              "      <th>EDTdate</th>\n",
              "      <th>Hour</th>\n",
              "      <th>AM_PM</th>\n",
              "    </tr>\n",
              "  </thead>\n",
              "  <tbody>\n",
              "    <tr>\n",
              "      <th>0</th>\n",
              "      <td>2010-04-19 08:17:56+00:00</td>\n",
              "      <td>6.5</td>\n",
              "      <td>0</td>\n",
              "      <td>-73.992365</td>\n",
              "      <td>40.730521</td>\n",
              "      <td>-73.975499</td>\n",
              "      <td>40.744746</td>\n",
              "      <td>1</td>\n",
              "      <td>2.126312</td>\n",
              "      <td>2010-04-19 04:17:56+00:00</td>\n",
              "      <td>4</td>\n",
              "      <td>am</td>\n",
              "    </tr>\n",
              "    <tr>\n",
              "      <th>1</th>\n",
              "      <td>2010-04-17 15:43:53+00:00</td>\n",
              "      <td>6.9</td>\n",
              "      <td>0</td>\n",
              "      <td>-73.990078</td>\n",
              "      <td>40.740558</td>\n",
              "      <td>-73.974232</td>\n",
              "      <td>40.744114</td>\n",
              "      <td>1</td>\n",
              "      <td>1.392307</td>\n",
              "      <td>2010-04-17 11:43:53+00:00</td>\n",
              "      <td>11</td>\n",
              "      <td>am</td>\n",
              "    </tr>\n",
              "    <tr>\n",
              "      <th>2</th>\n",
              "      <td>2010-04-17 11:23:26+00:00</td>\n",
              "      <td>10.1</td>\n",
              "      <td>1</td>\n",
              "      <td>-73.994149</td>\n",
              "      <td>40.751118</td>\n",
              "      <td>-73.960064</td>\n",
              "      <td>40.766235</td>\n",
              "      <td>2</td>\n",
              "      <td>3.326763</td>\n",
              "      <td>2010-04-17 07:23:26+00:00</td>\n",
              "      <td>7</td>\n",
              "      <td>am</td>\n",
              "    </tr>\n",
              "    <tr>\n",
              "      <th>3</th>\n",
              "      <td>2010-04-11 21:25:03+00:00</td>\n",
              "      <td>8.9</td>\n",
              "      <td>0</td>\n",
              "      <td>-73.990485</td>\n",
              "      <td>40.756422</td>\n",
              "      <td>-73.971205</td>\n",
              "      <td>40.748192</td>\n",
              "      <td>1</td>\n",
              "      <td>1.864129</td>\n",
              "      <td>2010-04-11 17:25:03+00:00</td>\n",
              "      <td>17</td>\n",
              "      <td>pm</td>\n",
              "    </tr>\n",
              "  </tbody>\n",
              "</table>\n",
              "</div>"
            ],
            "text/plain": [
              "            pickup_datetime  fare_amount  ...  Hour  AM_PM\n",
              "0 2010-04-19 08:17:56+00:00          6.5  ...     4     am\n",
              "1 2010-04-17 15:43:53+00:00          6.9  ...    11     am\n",
              "2 2010-04-17 11:23:26+00:00         10.1  ...     7     am\n",
              "3 2010-04-11 21:25:03+00:00          8.9  ...    17     pm\n",
              "\n",
              "[4 rows x 12 columns]"
            ]
          },
          "metadata": {
            "tags": []
          },
          "execution_count": 207
        }
      ]
    },
    {
      "cell_type": "code",
      "metadata": {
        "colab": {
          "base_uri": "https://localhost:8080/",
          "height": 213
        },
        "id": "jf9hpBMYsjOQ",
        "outputId": "f1fe477f-d48a-491c-c4a9-fa6ee60c7e98"
      },
      "source": [
        "df['Weekday'] = df['EDTdate'].dt.strftime('%a')\n",
        "\n",
        "df.sample(3)"
      ],
      "execution_count": null,
      "outputs": [
        {
          "output_type": "execute_result",
          "data": {
            "text/html": [
              "<div>\n",
              "<style scoped>\n",
              "    .dataframe tbody tr th:only-of-type {\n",
              "        vertical-align: middle;\n",
              "    }\n",
              "\n",
              "    .dataframe tbody tr th {\n",
              "        vertical-align: top;\n",
              "    }\n",
              "\n",
              "    .dataframe thead th {\n",
              "        text-align: right;\n",
              "    }\n",
              "</style>\n",
              "<table border=\"1\" class=\"dataframe\">\n",
              "  <thead>\n",
              "    <tr style=\"text-align: right;\">\n",
              "      <th></th>\n",
              "      <th>pickup_datetime</th>\n",
              "      <th>fare_amount</th>\n",
              "      <th>fare_class</th>\n",
              "      <th>pickup_longitude</th>\n",
              "      <th>pickup_latitude</th>\n",
              "      <th>dropoff_longitude</th>\n",
              "      <th>dropoff_latitude</th>\n",
              "      <th>passenger_count</th>\n",
              "      <th>dist_km</th>\n",
              "      <th>EDTdate</th>\n",
              "      <th>Hour</th>\n",
              "      <th>AM_PM</th>\n",
              "      <th>Weekday</th>\n",
              "    </tr>\n",
              "  </thead>\n",
              "  <tbody>\n",
              "    <tr>\n",
              "      <th>93536</th>\n",
              "      <td>2010-04-23 03:32:00+00:00</td>\n",
              "      <td>3.7</td>\n",
              "      <td>0</td>\n",
              "      <td>-73.914228</td>\n",
              "      <td>40.759975</td>\n",
              "      <td>-73.921308</td>\n",
              "      <td>40.756207</td>\n",
              "      <td>2</td>\n",
              "      <td>0.728803</td>\n",
              "      <td>2010-04-22 23:32:00+00:00</td>\n",
              "      <td>23</td>\n",
              "      <td>pm</td>\n",
              "      <td>Thu</td>\n",
              "    </tr>\n",
              "    <tr>\n",
              "      <th>38838</th>\n",
              "      <td>2010-04-24 10:40:00+00:00</td>\n",
              "      <td>3.7</td>\n",
              "      <td>0</td>\n",
              "      <td>-73.974542</td>\n",
              "      <td>40.791128</td>\n",
              "      <td>-73.979093</td>\n",
              "      <td>40.785287</td>\n",
              "      <td>1</td>\n",
              "      <td>0.754080</td>\n",
              "      <td>2010-04-24 06:40:00+00:00</td>\n",
              "      <td>6</td>\n",
              "      <td>am</td>\n",
              "      <td>Sat</td>\n",
              "    </tr>\n",
              "    <tr>\n",
              "      <th>116917</th>\n",
              "      <td>2010-04-21 13:25:09+00:00</td>\n",
              "      <td>13.3</td>\n",
              "      <td>1</td>\n",
              "      <td>-73.990566</td>\n",
              "      <td>40.756219</td>\n",
              "      <td>-73.954544</td>\n",
              "      <td>40.789827</td>\n",
              "      <td>1</td>\n",
              "      <td>4.813176</td>\n",
              "      <td>2010-04-21 09:25:09+00:00</td>\n",
              "      <td>9</td>\n",
              "      <td>am</td>\n",
              "      <td>Wed</td>\n",
              "    </tr>\n",
              "  </tbody>\n",
              "</table>\n",
              "</div>"
            ],
            "text/plain": [
              "                 pickup_datetime  fare_amount  fare_class  ...  Hour  AM_PM  Weekday\n",
              "93536  2010-04-23 03:32:00+00:00          3.7           0  ...    23     pm      Thu\n",
              "38838  2010-04-24 10:40:00+00:00          3.7           0  ...     6     am      Sat\n",
              "116917 2010-04-21 13:25:09+00:00         13.3           1  ...     9     am      Wed\n",
              "\n",
              "[3 rows x 13 columns]"
            ]
          },
          "metadata": {
            "tags": []
          },
          "execution_count": 208
        }
      ]
    },
    {
      "cell_type": "code",
      "metadata": {
        "colab": {
          "base_uri": "https://localhost:8080/"
        },
        "id": "RG5hOqW3zSHM",
        "outputId": "aff86738-f56a-41a4-e060-1d56aecf66f3"
      },
      "source": [
        "earliest_hour = df['EDTdate'].min()\n",
        "latest_hour = df['EDTdate'].max()\n",
        "\n",
        "print(earliest_hour)\n",
        "print(latest_hour)"
      ],
      "execution_count": null,
      "outputs": [
        {
          "output_type": "stream",
          "text": [
            "2010-04-11 00:00:10+00:00\n",
            "2010-04-24 23:59:42+00:00\n"
          ],
          "name": "stdout"
        }
      ]
    },
    {
      "cell_type": "markdown",
      "metadata": {
        "id": "XzALfcW5wpEZ"
      },
      "source": [
        "## Categorical and Continuos Features"
      ]
    },
    {
      "cell_type": "code",
      "metadata": {
        "id": "ua7GVILhtIw7"
      },
      "source": [
        "# Categorical columns\n",
        "cat_cols = ['Hour', 'AM_PM', 'Weekday']\n",
        "\n",
        "# Continuos columns\n",
        "cont_cols = ['pickup_longitude', 'pickup_latitude', \n",
        "             'dropoff_longitude', 'dropoff_latitude',\n",
        "             'passenger_count', 'dist_km']"
      ],
      "execution_count": null,
      "outputs": []
    },
    {
      "cell_type": "code",
      "metadata": {
        "id": "8Mrrjogivz1G"
      },
      "source": [
        "y_col = ['fare_amount']"
      ],
      "execution_count": null,
      "outputs": []
    },
    {
      "cell_type": "code",
      "metadata": {
        "colab": {
          "base_uri": "https://localhost:8080/"
        },
        "id": "JXGBq0fNv6Bz",
        "outputId": "d637a5e1-2af4-4a6a-c0ff-6b23eaa9d994"
      },
      "source": [
        "df.dtypes"
      ],
      "execution_count": null,
      "outputs": [
        {
          "output_type": "execute_result",
          "data": {
            "text/plain": [
              "pickup_datetime      datetime64[ns, UTC]\n",
              "fare_amount                      float64\n",
              "fare_class                         int64\n",
              "pickup_longitude                 float64\n",
              "pickup_latitude                  float64\n",
              "dropoff_longitude                float64\n",
              "dropoff_latitude                 float64\n",
              "passenger_count                    int64\n",
              "dist_km                          float64\n",
              "EDTdate              datetime64[ns, UTC]\n",
              "Hour                               int64\n",
              "AM_PM                             object\n",
              "Weekday                           object\n",
              "dtype: object"
            ]
          },
          "metadata": {
            "tags": []
          },
          "execution_count": 212
        }
      ]
    },
    {
      "cell_type": "code",
      "metadata": {
        "id": "_-UTt92yv8Kg"
      },
      "source": [
        "for cat in cat_cols:\n",
        "  df[cat] = df[cat].astype('category')"
      ],
      "execution_count": null,
      "outputs": []
    },
    {
      "cell_type": "code",
      "metadata": {
        "colab": {
          "base_uri": "https://localhost:8080/"
        },
        "id": "KlZEyaiWwIRY",
        "outputId": "5c025950-7b16-488e-a413-0ffebf55d581"
      },
      "source": [
        "df.dtypes"
      ],
      "execution_count": null,
      "outputs": [
        {
          "output_type": "execute_result",
          "data": {
            "text/plain": [
              "pickup_datetime      datetime64[ns, UTC]\n",
              "fare_amount                      float64\n",
              "fare_class                         int64\n",
              "pickup_longitude                 float64\n",
              "pickup_latitude                  float64\n",
              "dropoff_longitude                float64\n",
              "dropoff_latitude                 float64\n",
              "passenger_count                    int64\n",
              "dist_km                          float64\n",
              "EDTdate              datetime64[ns, UTC]\n",
              "Hour                            category\n",
              "AM_PM                           category\n",
              "Weekday                         category\n",
              "dtype: object"
            ]
          },
          "metadata": {
            "tags": []
          },
          "execution_count": 214
        }
      ]
    },
    {
      "cell_type": "code",
      "metadata": {
        "colab": {
          "base_uri": "https://localhost:8080/"
        },
        "id": "RNyULIkmwKOc",
        "outputId": "dbf7bcc1-0ff1-4ccf-9b4d-ec53f1cd3252"
      },
      "source": [
        "df['Hour'].head()"
      ],
      "execution_count": null,
      "outputs": [
        {
          "output_type": "execute_result",
          "data": {
            "text/plain": [
              "0     4\n",
              "1    11\n",
              "2     7\n",
              "3    17\n",
              "4    22\n",
              "Name: Hour, dtype: category\n",
              "Categories (24, int64): [0, 1, 2, 3, ..., 20, 21, 22, 23]"
            ]
          },
          "metadata": {
            "tags": []
          },
          "execution_count": 215
        }
      ]
    },
    {
      "cell_type": "code",
      "metadata": {
        "id": "tU8CrFTFwTlI",
        "colab": {
          "base_uri": "https://localhost:8080/"
        },
        "outputId": "8d22ab12-5750-4d0d-8e73-b98fe31bfe9a"
      },
      "source": [
        "df['Weekday'].head()"
      ],
      "execution_count": null,
      "outputs": [
        {
          "output_type": "execute_result",
          "data": {
            "text/plain": [
              "0    Mon\n",
              "1    Sat\n",
              "2    Sat\n",
              "3    Sun\n",
              "4    Fri\n",
              "Name: Weekday, dtype: category\n",
              "Categories (7, object): ['Fri', 'Mon', 'Sat', 'Sun', 'Thu', 'Tue', 'Wed']"
            ]
          },
          "metadata": {
            "tags": []
          },
          "execution_count": 216
        }
      ]
    },
    {
      "cell_type": "code",
      "metadata": {
        "colab": {
          "base_uri": "https://localhost:8080/"
        },
        "id": "B4W-tzk7Afj9",
        "outputId": "0e9ffe09-ac26-47a0-8819-4f1216b5784c"
      },
      "source": [
        "df['AM_PM'].cat.categories"
      ],
      "execution_count": null,
      "outputs": [
        {
          "output_type": "execute_result",
          "data": {
            "text/plain": [
              "Index(['am', 'pm'], dtype='object')"
            ]
          },
          "metadata": {
            "tags": []
          },
          "execution_count": 217
        }
      ]
    },
    {
      "cell_type": "code",
      "metadata": {
        "id": "Z64joczxAuwr"
      },
      "source": [
        "hr = df['Hour'].cat.codes.values\n",
        "ampm = df['AM_PM'].cat.codes.values\n",
        "wkdy = df['Weekday'].cat.codes.values "
      ],
      "execution_count": null,
      "outputs": []
    },
    {
      "cell_type": "code",
      "metadata": {
        "colab": {
          "base_uri": "https://localhost:8080/"
        },
        "id": "w3r30OpPGNvL",
        "outputId": "86259af3-5849-4c51-a24f-8bbea6f25b99"
      },
      "source": [
        "hr"
      ],
      "execution_count": null,
      "outputs": [
        {
          "output_type": "execute_result",
          "data": {
            "text/plain": [
              "array([ 4, 11,  7, ..., 14,  4, 12], dtype=int8)"
            ]
          },
          "metadata": {
            "tags": []
          },
          "execution_count": 219
        }
      ]
    },
    {
      "cell_type": "code",
      "metadata": {
        "colab": {
          "base_uri": "https://localhost:8080/"
        },
        "id": "SkTjJGQyGNsI",
        "outputId": "7e5d462b-aa31-42de-d915-0657beecdca5"
      },
      "source": [
        "ampm"
      ],
      "execution_count": null,
      "outputs": [
        {
          "output_type": "execute_result",
          "data": {
            "text/plain": [
              "array([0, 0, 0, ..., 1, 0, 1], dtype=int8)"
            ]
          },
          "metadata": {
            "tags": []
          },
          "execution_count": 220
        }
      ]
    },
    {
      "cell_type": "code",
      "metadata": {
        "colab": {
          "base_uri": "https://localhost:8080/"
        },
        "id": "hil14n2KGNo9",
        "outputId": "92231727-b57f-4986-ab27-3f5a7c2713ef"
      },
      "source": [
        "wkdy"
      ],
      "execution_count": null,
      "outputs": [
        {
          "output_type": "execute_result",
          "data": {
            "text/plain": [
              "array([1, 2, 2, ..., 3, 5, 2], dtype=int8)"
            ]
          },
          "metadata": {
            "tags": []
          },
          "execution_count": 221
        }
      ]
    },
    {
      "cell_type": "code",
      "metadata": {
        "colab": {
          "base_uri": "https://localhost:8080/"
        },
        "id": "RDHwJ0UyGNmX",
        "outputId": "f2457ed1-6224-41f2-afb7-ccc2e303be07"
      },
      "source": [
        "cats = np.stack([hr,ampm, wkdy], axis=1)\n",
        "cats "
      ],
      "execution_count": null,
      "outputs": [
        {
          "output_type": "execute_result",
          "data": {
            "text/plain": [
              "array([[ 4,  0,  1],\n",
              "       [11,  0,  2],\n",
              "       [ 7,  0,  2],\n",
              "       ...,\n",
              "       [14,  1,  3],\n",
              "       [ 4,  0,  5],\n",
              "       [12,  1,  2]], dtype=int8)"
            ]
          },
          "metadata": {
            "tags": []
          },
          "execution_count": 222
        }
      ]
    },
    {
      "cell_type": "code",
      "metadata": {
        "colab": {
          "base_uri": "https://localhost:8080/"
        },
        "id": "jjjx1xjTGNir",
        "outputId": "a6148cc9-1a56-4881-f4b8-9cc2b9ab8c70"
      },
      "source": [
        "cats[0] # at 4(hour) am( 0 means AM) on monday(1)"
      ],
      "execution_count": null,
      "outputs": [
        {
          "output_type": "execute_result",
          "data": {
            "text/plain": [
              "array([4, 0, 1], dtype=int8)"
            ]
          },
          "metadata": {
            "tags": []
          },
          "execution_count": 223
        }
      ]
    },
    {
      "cell_type": "code",
      "metadata": {
        "id": "Zv7OtINbGNVq"
      },
      "source": [
        "# one line for categorical datas \n",
        "# cats = np.stack([df[col].cat.codes.values for col in cat_cols], 1)"
      ],
      "execution_count": null,
      "outputs": []
    },
    {
      "cell_type": "code",
      "metadata": {
        "id": "VoGLRo36aa3t"
      },
      "source": [
        "cats = torch.tensor(cats, dtype=torch.int64)"
      ],
      "execution_count": null,
      "outputs": []
    },
    {
      "cell_type": "code",
      "metadata": {
        "id": "FpX48ZVNNLvU"
      },
      "source": [
        "conts = np.stack([df[col].values for col in cont_cols], axis = 1)"
      ],
      "execution_count": null,
      "outputs": []
    },
    {
      "cell_type": "code",
      "metadata": {
        "id": "nvhfCiTsNQzL"
      },
      "source": [
        "# Convert continuos data to tensor \n",
        "conts = torch.tensor(conts, dtype=torch.float)"
      ],
      "execution_count": null,
      "outputs": []
    },
    {
      "cell_type": "code",
      "metadata": {
        "colab": {
          "base_uri": "https://localhost:8080/"
        },
        "id": "HZ_D2ELwN_WU",
        "outputId": "d031a483-2c79-4e8d-8fd9-69fe0cf7d845"
      },
      "source": [
        "conts"
      ],
      "execution_count": null,
      "outputs": [
        {
          "output_type": "execute_result",
          "data": {
            "text/plain": [
              "tensor([[-73.9924,  40.7305, -73.9755,  40.7447,   1.0000,   2.1263],\n",
              "        [-73.9901,  40.7406, -73.9742,  40.7441,   1.0000,   1.3923],\n",
              "        [-73.9941,  40.7511, -73.9601,  40.7662,   2.0000,   3.3268],\n",
              "        ...,\n",
              "        [-73.9886,  40.7498, -74.0115,  40.7078,   3.0000,   5.0525],\n",
              "        [-74.0044,  40.7245, -73.9927,  40.7308,   1.0000,   1.2089],\n",
              "        [-73.9554,  40.7719, -73.9676,  40.7630,   3.0000,   1.4274]])"
            ]
          },
          "metadata": {
            "tags": []
          },
          "execution_count": 228
        }
      ]
    },
    {
      "cell_type": "code",
      "metadata": {
        "id": "qO57lixnOApi"
      },
      "source": [
        "y = torch.tensor(df[y_col].values, dtype=torch.float).reshape(-1,1)"
      ],
      "execution_count": null,
      "outputs": []
    },
    {
      "cell_type": "code",
      "metadata": {
        "colab": {
          "base_uri": "https://localhost:8080/"
        },
        "id": "ylTQrCLyPDlT",
        "outputId": "ebf28488-99d4-4f8b-e646-3d0621710449"
      },
      "source": [
        "# categorical data\n",
        "cats.shape"
      ],
      "execution_count": null,
      "outputs": [
        {
          "output_type": "execute_result",
          "data": {
            "text/plain": [
              "torch.Size([120000, 3])"
            ]
          },
          "metadata": {
            "tags": []
          },
          "execution_count": 230
        }
      ]
    },
    {
      "cell_type": "code",
      "metadata": {
        "colab": {
          "base_uri": "https://localhost:8080/"
        },
        "id": "N2rjhSVzPHxg",
        "outputId": "a9e60341-e621-4770-ad50-d6b062429254"
      },
      "source": [
        "# continuous data\n",
        "conts.shape"
      ],
      "execution_count": null,
      "outputs": [
        {
          "output_type": "execute_result",
          "data": {
            "text/plain": [
              "torch.Size([120000, 6])"
            ]
          },
          "metadata": {
            "tags": []
          },
          "execution_count": 231
        }
      ]
    },
    {
      "cell_type": "code",
      "metadata": {
        "colab": {
          "base_uri": "https://localhost:8080/"
        },
        "id": "DZXrppXDPLCa",
        "outputId": "d49c0be9-390c-4867-ead6-33121f4b6558"
      },
      "source": [
        "# label \n",
        "y.shape"
      ],
      "execution_count": null,
      "outputs": [
        {
          "output_type": "execute_result",
          "data": {
            "text/plain": [
              "torch.Size([120000, 1])"
            ]
          },
          "metadata": {
            "tags": []
          },
          "execution_count": 232
        }
      ]
    },
    {
      "cell_type": "code",
      "metadata": {
        "id": "AGqLb_hhPR6-"
      },
      "source": [
        ""
      ],
      "execution_count": null,
      "outputs": []
    },
    {
      "cell_type": "markdown",
      "metadata": {
        "id": "lXHMlp__P8YJ"
      },
      "source": [
        "## Embedding "
      ]
    },
    {
      "cell_type": "code",
      "metadata": {
        "id": "F-47hMnPQ-fX"
      },
      "source": [
        "# Define sizes \n",
        "cat_szs = [len(df[col].cat.categories) for col in cat_cols]"
      ],
      "execution_count": null,
      "outputs": []
    },
    {
      "cell_type": "code",
      "metadata": {
        "colab": {
          "base_uri": "https://localhost:8080/"
        },
        "id": "WqeRSiMLSCvw",
        "outputId": "a5674327-c3d7-4f17-a645-1c647952777a"
      },
      "source": [
        "# [total of hour in a day, am and pm (2 categories), 7 days in a week]\n",
        "cat_szs"
      ],
      "execution_count": null,
      "outputs": [
        {
          "output_type": "execute_result",
          "data": {
            "text/plain": [
              "[24, 2, 7]"
            ]
          },
          "metadata": {
            "tags": []
          },
          "execution_count": 234
        }
      ]
    },
    {
      "cell_type": "code",
      "metadata": {
        "id": "_crvfHItSRXE"
      },
      "source": [
        "# get a size element and divide by 2 or give 50 \n",
        "emb_szs = [(size,(min(50,size+1)//2)) for size in cat_szs]"
      ],
      "execution_count": null,
      "outputs": []
    },
    {
      "cell_type": "code",
      "metadata": {
        "colab": {
          "base_uri": "https://localhost:8080/"
        },
        "id": "KYJhHPRDTZNY",
        "outputId": "2a4b7e30-a346-403e-8a46-f352e66f004a"
      },
      "source": [
        "emb_szs"
      ],
      "execution_count": null,
      "outputs": [
        {
          "output_type": "execute_result",
          "data": {
            "text/plain": [
              "[(24, 12), (2, 1), (7, 4)]"
            ]
          },
          "metadata": {
            "tags": []
          },
          "execution_count": 236
        }
      ]
    },
    {
      "cell_type": "markdown",
      "metadata": {
        "id": "fVNaKXr8WPW_"
      },
      "source": [
        "### Tabular Model"
      ]
    },
    {
      "cell_type": "markdown",
      "metadata": {
        "id": "36j-hF_VYOG3"
      },
      "source": [
        "#### Breakdown "
      ]
    },
    {
      "cell_type": "code",
      "metadata": {
        "colab": {
          "base_uri": "https://localhost:8080/"
        },
        "id": "Nka-483QTedd",
        "outputId": "5028c53a-fd70-4eb6-fd6d-5a717c6c0ce6"
      },
      "source": [
        "# sub set data\n",
        "cat_sample = cats[:2]\n",
        "\n",
        "cat_sample"
      ],
      "execution_count": null,
      "outputs": [
        {
          "output_type": "execute_result",
          "data": {
            "text/plain": [
              "tensor([[ 4,  0,  1],\n",
              "        [11,  0,  2]])"
            ]
          },
          "metadata": {
            "tags": []
          },
          "execution_count": 237
        }
      ]
    },
    {
      "cell_type": "code",
      "metadata": {
        "colab": {
          "base_uri": "https://localhost:8080/"
        },
        "id": "TwU0qy2CYYD8",
        "outputId": "1aaa8c19-672c-4b60-8f7e-c8776dd20c7e"
      },
      "source": [
        "# model \n",
        "selembeds = nn.ModuleList([nn.Embedding(ni,nf) for ni,nf in emb_szs])\n",
        "\n",
        "selembeds"
      ],
      "execution_count": null,
      "outputs": [
        {
          "output_type": "execute_result",
          "data": {
            "text/plain": [
              "ModuleList(\n",
              "  (0): Embedding(24, 12)\n",
              "  (1): Embedding(2, 1)\n",
              "  (2): Embedding(7, 4)\n",
              ")"
            ]
          },
          "metadata": {
            "tags": []
          },
          "execution_count": 238
        }
      ]
    },
    {
      "cell_type": "code",
      "metadata": {
        "id": "HGIFdrTuY9_0"
      },
      "source": [
        "# Forward method for (cat_sample)\n",
        "embeddingz = []\n",
        "\n",
        "for i,e in enumerate(selembeds):\n",
        "  embeddingz.append(e(cat_sample[:,i]))"
      ],
      "execution_count": null,
      "outputs": []
    },
    {
      "cell_type": "code",
      "metadata": {
        "colab": {
          "base_uri": "https://localhost:8080/"
        },
        "id": "akEaAFJpZWHZ",
        "outputId": "d2d5dfe2-f00a-4dab-b4c4-830ceec85f50"
      },
      "source": [
        "embeddingz"
      ],
      "execution_count": null,
      "outputs": [
        {
          "output_type": "execute_result",
          "data": {
            "text/plain": [
              "[tensor([[-1.1712, -1.0707,  1.5110, -1.4429, -0.3396, -1.6925, -0.3451,  1.3243,\n",
              "           0.1380, -0.7729,  0.9246,  0.5713],\n",
              "         [ 0.4214,  0.9682, -0.9452,  1.9558,  0.9899,  1.0497,  1.0668, -1.0889,\n",
              "          -1.4327, -2.1288, -0.0278, -0.6627]], grad_fn=<EmbeddingBackward>),\n",
              " tensor([[-0.0216],\n",
              "         [-0.0216]], grad_fn=<EmbeddingBackward>),\n",
              " tensor([[ 0.4373, -0.7895,  1.2179,  0.4470],\n",
              "         [ 1.6881, -1.5008, -1.5567,  0.5621]], grad_fn=<EmbeddingBackward>)]"
            ]
          },
          "metadata": {
            "tags": []
          },
          "execution_count": 240
        }
      ]
    },
    {
      "cell_type": "code",
      "metadata": {
        "colab": {
          "base_uri": "https://localhost:8080/"
        },
        "id": "LbSoAJPZbnil",
        "outputId": "c01c3175-abe5-4a13-a6c7-c50b6a774e65"
      },
      "source": [
        " z = torch.cat(embeddingz,1)\n",
        " z"
      ],
      "execution_count": null,
      "outputs": [
        {
          "output_type": "execute_result",
          "data": {
            "text/plain": [
              "tensor([[-1.1712, -1.0707,  1.5110, -1.4429, -0.3396, -1.6925, -0.3451,  1.3243,\n",
              "          0.1380, -0.7729,  0.9246,  0.5713, -0.0216,  0.4373, -0.7895,  1.2179,\n",
              "          0.4470],\n",
              "        [ 0.4214,  0.9682, -0.9452,  1.9558,  0.9899,  1.0497,  1.0668, -1.0889,\n",
              "         -1.4327, -2.1288, -0.0278, -0.6627, -0.0216,  1.6881, -1.5008, -1.5567,\n",
              "          0.5621]], grad_fn=<CatBackward>)"
            ]
          },
          "metadata": {
            "tags": []
          },
          "execution_count": 241
        }
      ]
    },
    {
      "cell_type": "code",
      "metadata": {
        "id": "54Mgb1uXc4cG"
      },
      "source": [
        "selfembdrop = nn.Dropout(0.4)\n"
      ],
      "execution_count": null,
      "outputs": []
    },
    {
      "cell_type": "code",
      "metadata": {
        "colab": {
          "base_uri": "https://localhost:8080/"
        },
        "id": "c91ztipRdHpS",
        "outputId": "72239a28-7630-4eb8-dc58-8f3b9405b0c0"
      },
      "source": [
        "z = selfembdrop(z)\n",
        "\n",
        "z"
      ],
      "execution_count": null,
      "outputs": [
        {
          "output_type": "execute_result",
          "data": {
            "text/plain": [
              "tensor([[-1.9521, -1.7846,  0.0000, -2.4048, -0.0000, -2.8208, -0.0000,  0.0000,\n",
              "          0.2299, -1.2882,  0.0000,  0.0000, -0.0000,  0.7289, -0.0000,  2.0298,\n",
              "          0.7450],\n",
              "        [ 0.7023,  0.0000, -0.0000,  3.2596,  1.6499,  1.7495,  0.0000, -1.8149,\n",
              "         -0.0000, -3.5480, -0.0000, -1.1045, -0.0359,  0.0000, -0.0000, -2.5945,\n",
              "          0.0000]], grad_fn=<MulBackward0>)"
            ]
          },
          "metadata": {
            "tags": []
          },
          "execution_count": 243
        }
      ]
    },
    {
      "cell_type": "markdown",
      "metadata": {
        "id": "K0cko2m6fV-t"
      },
      "source": [
        "### Create TabularModel"
      ]
    },
    {
      "cell_type": "code",
      "metadata": {
        "id": "IacC6WaSfXxw"
      },
      "source": [
        "class TabularModel(nn.Module):\n",
        "\n",
        "  def __init__(self, emb_szs, n_cont, output_size, layers, p=0.5):\n",
        "    \n",
        "    super().__init__()\n",
        "    self.embeds = nn.ModuleList([nn.Embedding(ni,nf) for ni,nf in emb_szs])\n",
        "    self.emb_drop = nn.Dropout(p) \n",
        "    self.bn_cont = nn.BatchNorm1d(n_cont)\n",
        "\n",
        "    layerlist = []\n",
        "    n_emb = sum([nf for ni, nf in emb_szs])\n",
        "    n_in = n_emb + n_cont\n",
        "\n",
        "    for i in layers:\n",
        "      layerlist.append(nn.Linear(n_in, i))\n",
        "      layerlist.append(nn.ReLU(inplace=True))\n",
        "      layerlist.append(nn.BatchNorm1d(i))\n",
        "      layerlist.append(nn.Dropout(p))\n",
        "      n_in = i\n",
        "\n",
        "    layerlist.append(nn.Linear(layers[-1], output_size))\n",
        "\n",
        "    self.layers= nn.Sequential(*layerlist)\n",
        "\n",
        "\n",
        "  def forward(self, x_cat, x_cont):\n",
        "\n",
        "    embeddings = []\n",
        "    \n",
        "    for i,e in enumerate(self.embeds):\n",
        "      embeddings.append(e(x_cat[:,i]))\n",
        "\n",
        "    x = torch.cat(embeddings,1)\n",
        "    x = self.emb_drop(x)\n",
        "    \n",
        "    x_cont = self.bn_cont(x_cont)\n",
        "    x = torch.cat([x,x_cont],1)\n",
        "    x = self.layers(x)\n",
        "\n",
        "    return x"
      ],
      "execution_count": null,
      "outputs": []
    },
    {
      "cell_type": "markdown",
      "metadata": {
        "id": "eIOLpxBZj9Fh"
      },
      "source": [
        "## Training and Evaluation "
      ]
    },
    {
      "cell_type": "code",
      "metadata": {
        "id": "Jee0Bat7j8Px"
      },
      "source": [
        "torch.manual_seed(33)\n",
        "model = TabularModel(emb_szs, conts.shape[1], 1, [200,100], p=0.4)"
      ],
      "execution_count": null,
      "outputs": []
    },
    {
      "cell_type": "code",
      "metadata": {
        "colab": {
          "base_uri": "https://localhost:8080/"
        },
        "id": "r-rkCjOzldtk",
        "outputId": "dd4a7995-4663-4cd7-b0fb-0adfca14cdd6"
      },
      "source": [
        "model"
      ],
      "execution_count": null,
      "outputs": [
        {
          "output_type": "execute_result",
          "data": {
            "text/plain": [
              "TabularModel(\n",
              "  (embeds): ModuleList(\n",
              "    (0): Embedding(24, 12)\n",
              "    (1): Embedding(2, 1)\n",
              "    (2): Embedding(7, 4)\n",
              "  )\n",
              "  (emb_drop): Dropout(p=0.4, inplace=False)\n",
              "  (bn_cont): BatchNorm1d(6, eps=1e-05, momentum=0.1, affine=True, track_running_stats=True)\n",
              "  (layers): Sequential(\n",
              "    (0): Linear(in_features=23, out_features=200, bias=True)\n",
              "    (1): ReLU(inplace=True)\n",
              "    (2): BatchNorm1d(200, eps=1e-05, momentum=0.1, affine=True, track_running_stats=True)\n",
              "    (3): Dropout(p=0.4, inplace=False)\n",
              "    (4): Linear(in_features=200, out_features=100, bias=True)\n",
              "    (5): ReLU(inplace=True)\n",
              "    (6): BatchNorm1d(100, eps=1e-05, momentum=0.1, affine=True, track_running_stats=True)\n",
              "    (7): Dropout(p=0.4, inplace=False)\n",
              "    (8): Linear(in_features=100, out_features=1, bias=True)\n",
              "  )\n",
              ")"
            ]
          },
          "metadata": {
            "tags": []
          },
          "execution_count": 248
        }
      ]
    },
    {
      "cell_type": "code",
      "metadata": {
        "id": "8bQogkgO0BUd"
      },
      "source": [
        "criterion = nn.MSELoss()\n",
        "\n",
        "optimizer = torch.optim.Adam(model.parameters(), lr=0.001)"
      ],
      "execution_count": null,
      "outputs": []
    },
    {
      "cell_type": "code",
      "metadata": {
        "id": "s28hQpt00mw4"
      },
      "source": [
        "batch_size = 60000\n",
        "test_size = int(batch_size*0.2)"
      ],
      "execution_count": null,
      "outputs": []
    },
    {
      "cell_type": "code",
      "metadata": {
        "id": "MDvKDIhT01wo"
      },
      "source": [
        "# Data already shuffled \n",
        "\n",
        "cat_train = cats[:batch_size-test_size]\n",
        "cat_test = cats[batch_size-test_size:batch_size]\n",
        "cont_train = conts[:batch_size-test_size]\n",
        "cont_test = conts[batch_size-test_size:batch_size]"
      ],
      "execution_count": null,
      "outputs": []
    },
    {
      "cell_type": "code",
      "metadata": {
        "id": "lRX1euCL1aCn"
      },
      "source": [
        "y_train = y[:batch_size-test_size]\n",
        "y_test = y[batch_size-test_size:batch_size]"
      ],
      "execution_count": null,
      "outputs": []
    },
    {
      "cell_type": "code",
      "metadata": {
        "colab": {
          "base_uri": "https://localhost:8080/"
        },
        "id": "P2dVPJUa1hRf",
        "outputId": "f571e0d9-25ba-4205-cd84-9b3fd45e9931"
      },
      "source": [
        "len(cat_train)"
      ],
      "execution_count": null,
      "outputs": [
        {
          "output_type": "execute_result",
          "data": {
            "text/plain": [
              "48000"
            ]
          },
          "metadata": {
            "tags": []
          },
          "execution_count": 254
        }
      ]
    },
    {
      "cell_type": "code",
      "metadata": {
        "colab": {
          "base_uri": "https://localhost:8080/"
        },
        "id": "QjXrQq531jJD",
        "outputId": "7a628246-52eb-4167-aa12-9dde17f865f3"
      },
      "source": [
        "len(cont_train)"
      ],
      "execution_count": null,
      "outputs": [
        {
          "output_type": "execute_result",
          "data": {
            "text/plain": [
              "48000"
            ]
          },
          "metadata": {
            "tags": []
          },
          "execution_count": 255
        }
      ]
    },
    {
      "cell_type": "markdown",
      "metadata": {
        "id": "Ze9Fc8cv2936"
      },
      "source": [
        "### Train"
      ]
    },
    {
      "cell_type": "code",
      "metadata": {
        "colab": {
          "base_uri": "https://localhost:8080/"
        },
        "id": "NcWDGUb_1mGI",
        "outputId": "abc6226d-2e79-475c-842a-139877aa4037"
      },
      "source": [
        "import time \n",
        "\n",
        "star_time = time.time()\n",
        "\n",
        "epochs = 500 \n",
        "\n",
        "losses = []\n",
        "\n",
        "\n",
        "for i in range(epochs):\n",
        "  i += 1 \n",
        "\n",
        "  y_pred = model(cat_train, cont_train)\n",
        "  loss = torch.sqrt(criterion(y_pred, y_train))\n",
        "  losses.append(loss)\n",
        "\n",
        "  if i%10==1:\n",
        "    print(\"epoch:{} loss:{}\".format(i, loss))\n",
        "\n",
        "  optimizer.zero_grad()\n",
        "  loss.backward()\n",
        "  optimizer.step()\n",
        "\n",
        "duration = time.time() - star_time\n",
        "\n",
        "print(\"Training Duration: {}\".format(duration/60))"
      ],
      "execution_count": null,
      "outputs": [
        {
          "output_type": "stream",
          "text": [
            "epoch:1 loss:9.176569938659668\n",
            "epoch:11 loss:8.8915376663208\n",
            "epoch:21 loss:8.574092864990234\n",
            "epoch:31 loss:8.21468734741211\n",
            "epoch:41 loss:7.812304973602295\n",
            "epoch:51 loss:7.381375312805176\n",
            "epoch:61 loss:6.920572280883789\n",
            "epoch:71 loss:6.447566032409668\n",
            "epoch:81 loss:5.972303867340088\n",
            "epoch:91 loss:5.484586715698242\n",
            "epoch:101 loss:5.018704414367676\n",
            "epoch:111 loss:4.650603771209717\n",
            "epoch:121 loss:4.309920310974121\n",
            "epoch:131 loss:4.070165634155273\n",
            "epoch:141 loss:3.9556121826171875\n",
            "epoch:151 loss:3.87135910987854\n",
            "epoch:161 loss:3.8176746368408203\n",
            "epoch:171 loss:3.789914608001709\n",
            "epoch:181 loss:3.7474453449249268\n",
            "epoch:191 loss:3.724388837814331\n",
            "epoch:201 loss:3.6845436096191406\n",
            "epoch:211 loss:3.624664783477783\n",
            "epoch:221 loss:3.651637315750122\n",
            "epoch:231 loss:3.6048967838287354\n",
            "epoch:241 loss:3.6228535175323486\n",
            "epoch:251 loss:3.5918002128601074\n",
            "epoch:261 loss:3.5534207820892334\n",
            "epoch:271 loss:3.5484776496887207\n",
            "epoch:281 loss:3.5442357063293457\n",
            "epoch:291 loss:3.502241611480713\n",
            "epoch:301 loss:3.483612060546875\n",
            "epoch:311 loss:3.4747469425201416\n",
            "epoch:321 loss:3.496978521347046\n",
            "epoch:331 loss:3.4396281242370605\n",
            "epoch:341 loss:3.4598801136016846\n",
            "epoch:351 loss:3.443068504333496\n",
            "epoch:361 loss:3.428750991821289\n",
            "epoch:371 loss:3.406704902648926\n",
            "epoch:381 loss:3.3986241817474365\n",
            "epoch:391 loss:3.394228935241699\n",
            "epoch:401 loss:3.3890023231506348\n",
            "epoch:411 loss:3.387310028076172\n",
            "epoch:421 loss:3.3878395557403564\n",
            "epoch:431 loss:3.3499302864074707\n",
            "epoch:441 loss:3.3597826957702637\n",
            "epoch:451 loss:3.35664439201355\n",
            "epoch:461 loss:3.3201005458831787\n",
            "epoch:471 loss:3.3366236686706543\n",
            "epoch:481 loss:3.318666934967041\n",
            "epoch:491 loss:3.302029848098755\n",
            "Training Duration: 7.844741825262705\n"
          ],
          "name": "stdout"
        }
      ]
    },
    {
      "cell_type": "markdown",
      "metadata": {
        "id": "tzzb80Fq5mNj"
      },
      "source": [
        "### Evaluation"
      ]
    },
    {
      "cell_type": "code",
      "metadata": {
        "colab": {
          "base_uri": "https://localhost:8080/",
          "height": 282
        },
        "id": "qDun8Kvm2nSi",
        "outputId": "57276ef7-99f9-4467-e52f-dc770a85eb4b"
      },
      "source": [
        "plt.plot(range(epochs),losses)"
      ],
      "execution_count": null,
      "outputs": [
        {
          "output_type": "execute_result",
          "data": {
            "text/plain": [
              "[<matplotlib.lines.Line2D at 0x7f1d02d6aad0>]"
            ]
          },
          "metadata": {
            "tags": []
          },
          "execution_count": 270
        },
        {
          "output_type": "display_data",
          "data": {
            "image/png": "[encoded data removed]",
            "text/plain": [
              "<Figure size 432x288 with 1 Axes>"
            ]
          },
          "metadata": {
            "tags": [],
            "needs_background": "light"
          }
        }
      ]
    },
    {
      "cell_type": "code",
      "metadata": {
        "id": "514UdqV-3KjH"
      },
      "source": [
        "with torch.no_grad():\n",
        "  y_val = model(cat_test,cont_test)\n",
        "\n",
        "  loss = torch.sqrt(criterion(y_val, y_test))"
      ],
      "execution_count": null,
      "outputs": []
    },
    {
      "cell_type": "code",
      "metadata": {
        "colab": {
          "base_uri": "https://localhost:8080/"
        },
        "id": "gjxCX1BG3bZD",
        "outputId": "8982771f-a256-4e10-a0e1-6c269b5b385a"
      },
      "source": [
        "loss"
      ],
      "execution_count": null,
      "outputs": [
        {
          "output_type": "execute_result",
          "data": {
            "text/plain": [
              "tensor(3.2534)"
            ]
          },
          "metadata": {
            "tags": []
          },
          "execution_count": 272
        }
      ]
    },
    {
      "cell_type": "code",
      "metadata": {
        "colab": {
          "base_uri": "https://localhost:8080/"
        },
        "id": "XJuR-bDk3d-5",
        "outputId": "867e417a-e0d7-43db-c084-ab3cc9ffe5d9"
      },
      "source": [
        "for i in range(10):\n",
        "  print(\"{}) Predicted: {:.4f} True Value: {:.4f}\".format(i,y_val[i].item(), y_test[i].item()))"
      ],
      "execution_count": null,
      "outputs": [
        {
          "output_type": "stream",
          "text": [
            "0) Predicted: 3.6825 True Value: 2.9000\n",
            "1) Predicted: 22.8727 True Value: 5.7000\n",
            "2) Predicted: 7.7183 True Value: 7.7000\n",
            "3) Predicted: 9.5880 True Value: 12.5000\n",
            "4) Predicted: 5.5305 True Value: 4.1000\n",
            "5) Predicted: 5.0380 True Value: 5.3000\n",
            "6) Predicted: 4.3241 True Value: 3.7000\n",
            "7) Predicted: 16.4287 True Value: 14.5000\n",
            "8) Predicted: 3.8438 True Value: 5.7000\n",
            "9) Predicted: 11.9525 True Value: 10.1000\n"
          ],
          "name": "stdout"
        }
      ]
    },
    {
      "cell_type": "code",
      "metadata": {
        "id": "a-kfa9vp3zhO"
      },
      "source": [
        "torch.save(model.state_dict(),'TaxiFaresModel.pt')"
      ],
      "execution_count": null,
      "outputs": []
    },
    {
      "cell_type": "code",
      "metadata": {
        "id": "90VdQQAm7Cgg"
      },
      "source": [
        ""
      ],
      "execution_count": null,
      "outputs": []
    }
  ]
}