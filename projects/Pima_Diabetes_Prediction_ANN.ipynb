{
  "nbformat": 4,
  "nbformat_minor": 0,
  "metadata": {
    "colab": {
      "name": "Pima_Diabetes_Prediction_ANN.ipynb",
      "provenance": [],
      "collapsed_sections": []
    },
    "kernelspec": {
      "name": "python3",
      "display_name": "Python 3"
    },
    "language_info": {
      "name": "python"
    }
  },
  "cells": [
    {
      "cell_type": "code",
      "metadata": {
        "id": "LKq5q3TVckG1"
      },
      "source": [
        "import torch \n",
        "import torch.nn as nn\n",
        "import torch.nn.functional as F\n",
        "\n",
        "from sklearn.model_selection import train_test_split\n",
        "from sklearn.metrics import confusion_matrix, accuracy_score, auc, roc_curve\n",
        "import numpy as np\n",
        "import pandas as pd\n",
        "\n",
        "import matplotlib.pyplot as plt\n",
        "import seaborn as sns\n",
        "%matplotlib inline"
      ],
      "execution_count": 134,
      "outputs": []
    },
    {
      "cell_type": "code",
      "metadata": {
        "id": "iocYQ3FoAzEv"
      },
      "source": [
        "df = pd.read_csv(\"diabetes.csv\", delimiter=\",\")"
      ],
      "execution_count": 135,
      "outputs": []
    },
    {
      "cell_type": "code",
      "metadata": {
        "colab": {
          "base_uri": "https://localhost:8080/",
          "height": 171
        },
        "id": "dXY20vdbBAfB",
        "outputId": "947ccc87-3b4f-4f0b-c026-7bfc7e1501ab"
      },
      "source": [
        "df.head(4)"
      ],
      "execution_count": 136,
      "outputs": [
        {
          "output_type": "execute_result",
          "data": {
            "text/html": [
              "<div>\n",
              "<style scoped>\n",
              "    .dataframe tbody tr th:only-of-type {\n",
              "        vertical-align: middle;\n",
              "    }\n",
              "\n",
              "    .dataframe tbody tr th {\n",
              "        vertical-align: top;\n",
              "    }\n",
              "\n",
              "    .dataframe thead th {\n",
              "        text-align: right;\n",
              "    }\n",
              "</style>\n",
              "<table border=\"1\" class=\"dataframe\">\n",
              "  <thead>\n",
              "    <tr style=\"text-align: right;\">\n",
              "      <th></th>\n",
              "      <th>Pregnancies</th>\n",
              "      <th>Glucose</th>\n",
              "      <th>BloodPressure</th>\n",
              "      <th>SkinThickness</th>\n",
              "      <th>Insulin</th>\n",
              "      <th>BMI</th>\n",
              "      <th>DiabetesPedigreeFunction</th>\n",
              "      <th>Age</th>\n",
              "      <th>Outcome</th>\n",
              "    </tr>\n",
              "  </thead>\n",
              "  <tbody>\n",
              "    <tr>\n",
              "      <th>0</th>\n",
              "      <td>6</td>\n",
              "      <td>148</td>\n",
              "      <td>72</td>\n",
              "      <td>35</td>\n",
              "      <td>0</td>\n",
              "      <td>33.6</td>\n",
              "      <td>0.627</td>\n",
              "      <td>50</td>\n",
              "      <td>1</td>\n",
              "    </tr>\n",
              "    <tr>\n",
              "      <th>1</th>\n",
              "      <td>1</td>\n",
              "      <td>85</td>\n",
              "      <td>66</td>\n",
              "      <td>29</td>\n",
              "      <td>0</td>\n",
              "      <td>26.6</td>\n",
              "      <td>0.351</td>\n",
              "      <td>31</td>\n",
              "      <td>0</td>\n",
              "    </tr>\n",
              "    <tr>\n",
              "      <th>2</th>\n",
              "      <td>8</td>\n",
              "      <td>183</td>\n",
              "      <td>64</td>\n",
              "      <td>0</td>\n",
              "      <td>0</td>\n",
              "      <td>23.3</td>\n",
              "      <td>0.672</td>\n",
              "      <td>32</td>\n",
              "      <td>1</td>\n",
              "    </tr>\n",
              "    <tr>\n",
              "      <th>3</th>\n",
              "      <td>1</td>\n",
              "      <td>89</td>\n",
              "      <td>66</td>\n",
              "      <td>23</td>\n",
              "      <td>94</td>\n",
              "      <td>28.1</td>\n",
              "      <td>0.167</td>\n",
              "      <td>21</td>\n",
              "      <td>0</td>\n",
              "    </tr>\n",
              "  </tbody>\n",
              "</table>\n",
              "</div>"
            ],
            "text/plain": [
              "   Pregnancies  Glucose  BloodPressure  ...  DiabetesPedigreeFunction  Age  Outcome\n",
              "0            6      148             72  ...                     0.627   50        1\n",
              "1            1       85             66  ...                     0.351   31        0\n",
              "2            8      183             64  ...                     0.672   32        1\n",
              "3            1       89             66  ...                     0.167   21        0\n",
              "\n",
              "[4 rows x 9 columns]"
            ]
          },
          "metadata": {
            "tags": []
          },
          "execution_count": 136
        }
      ]
    },
    {
      "cell_type": "code",
      "metadata": {
        "id": "XMyPrkZhBBf2"
      },
      "source": [
        "X = df.drop('Outcome', axis=1).values\n",
        "y = df['Outcome'].values"
      ],
      "execution_count": 137,
      "outputs": []
    },
    {
      "cell_type": "code",
      "metadata": {
        "id": "lt_TdOTgBRRy"
      },
      "source": [
        "X_train, X_test, y_train, y_test = train_test_split(X,y, test_size=0.2, random_state=0)"
      ],
      "execution_count": 138,
      "outputs": []
    },
    {
      "cell_type": "code",
      "metadata": {
        "id": "rmq6g6wBBoHo"
      },
      "source": [
        "X_train = torch.FloatTensor(X_train)\n",
        "X_test = torch.FloatTensor(X_test)\n",
        "y_train = torch.LongTensor(y_train)\n",
        "y_test = torch.LongTensor(y_test)"
      ],
      "execution_count": 139,
      "outputs": []
    },
    {
      "cell_type": "code",
      "metadata": {
        "id": "-uxbctgNB_KL"
      },
      "source": [
        "class ANN_Model(nn.Module):\n",
        "  def __init__(self, input_features=8, hidden1=20, hidden2=20, hidden3=10, out_features=2):\n",
        "    super().__init__()\n",
        "    self.f_connected1 = nn.Linear(input_features, hidden1)\n",
        "    self.f_connected2 = nn.Linear(hidden1, hidden2)\n",
        "    self.f_connected3 = nn.Linear(hidden2, hidden3)\n",
        "    self.out = nn.Linear(hidden3, out_features)\n",
        "\n",
        "  def forward(self,x):\n",
        "    x = F.relu(self.f_connected1(x))\n",
        "    x = F.relu(self.f_connected2(x))\n",
        "    x = F.relu(self.f_connected3(x))\n",
        "    x = self.out(x)\n",
        "\n",
        "    return x\n"
      ],
      "execution_count": 140,
      "outputs": []
    },
    {
      "cell_type": "code",
      "metadata": {
        "id": "Jol7uplREAfG"
      },
      "source": [
        "model = ANN_Model()"
      ],
      "execution_count": 141,
      "outputs": []
    },
    {
      "cell_type": "code",
      "metadata": {
        "colab": {
          "base_uri": "https://localhost:8080/"
        },
        "id": "kydT9ZA4EHoa",
        "outputId": "e4698563-7ac9-49ff-a68e-1d26f5c4a2e6"
      },
      "source": [
        "model.parameters"
      ],
      "execution_count": 142,
      "outputs": [
        {
          "output_type": "execute_result",
          "data": {
            "text/plain": [
              "<bound method Module.parameters of ANN_Model(\n",
              "  (f_connected1): Linear(in_features=8, out_features=20, bias=True)\n",
              "  (f_connected2): Linear(in_features=20, out_features=20, bias=True)\n",
              "  (f_connected3): Linear(in_features=20, out_features=10, bias=True)\n",
              "  (out): Linear(in_features=10, out_features=2, bias=True)\n",
              ")>"
            ]
          },
          "metadata": {
            "tags": []
          },
          "execution_count": 142
        }
      ]
    },
    {
      "cell_type": "code",
      "metadata": {
        "id": "tc5h1FsEEJHI"
      },
      "source": [
        "loss_func = nn.CrossEntropyLoss()\n",
        "lr = 0.05\n",
        "optimizer = torch.optim.Adam(model.parameters(), lr = lr)"
      ],
      "execution_count": 143,
      "outputs": []
    },
    {
      "cell_type": "code",
      "metadata": {
        "colab": {
          "base_uri": "https://localhost:8080/"
        },
        "id": "8sN0pRCKEfO-",
        "outputId": "a8f7acd5-000f-4b5b-f13a-360dcdba203a"
      },
      "source": [
        "%%time\n",
        "epochs = 500\n",
        "final_losses = []\n",
        "\n",
        "for i in range(epochs):\n",
        "  i = i+1\n",
        "  y_pred = model.forward(X_train)\n",
        "  loss = loss_func(y_pred, y_train)\n",
        "  final_losses.append(loss)\n",
        "\n",
        "  if i%10==0:\n",
        "    print(\"Epoch number: {} and the loss: {}\".format(i, loss.item()))\n",
        "\n",
        "  optimizer.zero_grad()\n",
        "  loss.backward()\n",
        "  optimizer.step()"
      ],
      "execution_count": 144,
      "outputs": [
        {
          "output_type": "stream",
          "text": [
            "Epoch number: 10 and the loss: 0.6733523607254028\n",
            "Epoch number: 20 and the loss: 0.5992828011512756\n",
            "Epoch number: 30 and the loss: 0.556739091873169\n",
            "Epoch number: 40 and the loss: 0.5456564426422119\n",
            "Epoch number: 50 and the loss: 0.5236650109291077\n",
            "Epoch number: 60 and the loss: 0.5051558017730713\n",
            "Epoch number: 70 and the loss: 0.5103287696838379\n",
            "Epoch number: 80 and the loss: 0.4905175268650055\n",
            "Epoch number: 90 and the loss: 0.6686091423034668\n",
            "Epoch number: 100 and the loss: 0.5019506216049194\n",
            "Epoch number: 110 and the loss: 0.48831793665885925\n",
            "Epoch number: 120 and the loss: 0.4783214330673218\n",
            "Epoch number: 130 and the loss: 0.47032827138900757\n",
            "Epoch number: 140 and the loss: 0.46393007040023804\n",
            "Epoch number: 150 and the loss: 0.46033376455307007\n",
            "Epoch number: 160 and the loss: 0.456987202167511\n",
            "Epoch number: 170 and the loss: 0.4535571038722992\n",
            "Epoch number: 180 and the loss: 0.4553033709526062\n",
            "Epoch number: 190 and the loss: 0.46543416380882263\n",
            "Epoch number: 200 and the loss: 0.45473727583885193\n",
            "Epoch number: 210 and the loss: 0.4476926326751709\n",
            "Epoch number: 220 and the loss: 0.47565433382987976\n",
            "Epoch number: 230 and the loss: 0.4489629864692688\n",
            "Epoch number: 240 and the loss: 0.45774582028388977\n",
            "Epoch number: 250 and the loss: 0.4674660861492157\n",
            "Epoch number: 260 and the loss: 0.4464736580848694\n",
            "Epoch number: 270 and the loss: 0.4564098119735718\n",
            "Epoch number: 280 and the loss: 0.4414520859718323\n",
            "Epoch number: 290 and the loss: 0.4464802145957947\n",
            "Epoch number: 300 and the loss: 0.4381471872329712\n",
            "Epoch number: 310 and the loss: 0.43887612223625183\n",
            "Epoch number: 320 and the loss: 0.4488687515258789\n",
            "Epoch number: 330 and the loss: 0.43903347849845886\n",
            "Epoch number: 340 and the loss: 0.45167696475982666\n",
            "Epoch number: 350 and the loss: 0.45214933156967163\n",
            "Epoch number: 360 and the loss: 0.4375797212123871\n",
            "Epoch number: 370 and the loss: 0.4414844810962677\n",
            "Epoch number: 380 and the loss: 0.4446451961994171\n",
            "Epoch number: 390 and the loss: 0.46006640791893005\n",
            "Epoch number: 400 and the loss: 0.432306706905365\n",
            "Epoch number: 410 and the loss: 0.44726794958114624\n",
            "Epoch number: 420 and the loss: 0.43574896454811096\n",
            "Epoch number: 430 and the loss: 0.45331013202667236\n",
            "Epoch number: 440 and the loss: 0.45463064312934875\n",
            "Epoch number: 450 and the loss: 0.43803083896636963\n",
            "Epoch number: 460 and the loss: 0.4372155964374542\n",
            "Epoch number: 470 and the loss: 0.4495033621788025\n",
            "Epoch number: 480 and the loss: 0.4420803189277649\n",
            "Epoch number: 490 and the loss: 0.43674585223197937\n",
            "Epoch number: 500 and the loss: 0.44450998306274414\n",
            "CPU times: user 690 ms, sys: 12.2 ms, total: 703 ms\n",
            "Wall time: 696 ms\n"
          ],
          "name": "stdout"
        }
      ]
    },
    {
      "cell_type": "code",
      "metadata": {
        "colab": {
          "base_uri": "https://localhost:8080/",
          "height": 264
        },
        "id": "zpMx5AJbFbyQ",
        "outputId": "1b623c59-d970-4572-95e0-8a10adb29547"
      },
      "source": [
        "n_epochs = range(epochs)\n",
        "plt.plot(n_epochs, final_losses);"
      ],
      "execution_count": 145,
      "outputs": [
        {
          "output_type": "display_data",
          "data": {
            "image/png": "[encoded data removed]",
            "text/plain": [
              "<Figure size 432x288 with 1 Axes>"
            ]
          },
          "metadata": {
            "tags": [],
            "needs_background": "light"
          }
        }
      ]
    },
    {
      "cell_type": "code",
      "metadata": {
        "id": "iJPbQ_gQHChi"
      },
      "source": [
        "## Predict in Test data\n",
        "predictions = [] \n",
        "with torch.no_grad():\n",
        "  for i, data in enumerate(X_test):\n",
        "    pred = model(data)\n",
        "    f_pred = pred.argmax().item()\n",
        "    predictions.append(f_pred)"
      ],
      "execution_count": 146,
      "outputs": []
    },
    {
      "cell_type": "code",
      "metadata": {
        "colab": {
          "base_uri": "https://localhost:8080/"
        },
        "id": "g7XfSN5jHt-k",
        "outputId": "be0d70be-800a-437b-80cd-f88fb86649bb"
      },
      "source": [
        "cm = confusion_matrix(y_test, predictions)\n",
        "cm"
      ],
      "execution_count": 147,
      "outputs": [
        {
          "output_type": "execute_result",
          "data": {
            "text/plain": [
              "array([[89, 18],\n",
              "       [12, 35]])"
            ]
          },
          "metadata": {
            "tags": []
          },
          "execution_count": 147
        }
      ]
    },
    {
      "cell_type": "code",
      "metadata": {
        "colab": {
          "base_uri": "https://localhost:8080/",
          "height": 405
        },
        "id": "yO-NX46gIkjR",
        "outputId": "2de6bef5-9a1c-4661-d2a5-3850ce1e1749"
      },
      "source": [
        "plt.figure(figsize=(10,6))\n",
        "\n",
        "sns.heatmap(cm, annot=True)\n",
        "plt.xlabel(\"Actual\")\n",
        "plt.ylabel(\"Prediction\")"
      ],
      "execution_count": 148,
      "outputs": [
        {
          "output_type": "execute_result",
          "data": {
            "text/plain": [
              "Text(69.0, 0.5, 'Prediction')"
            ]
          },
          "metadata": {
            "tags": []
          },
          "execution_count": 148
        },
        {
          "output_type": "display_data",
          "data": {
            "image/png": "[encoded data removed]",
            "text/plain": [
              "<Figure size 720x432 with 2 Axes>"
            ]
          },
          "metadata": {
            "tags": [],
            "needs_background": "light"
          }
        }
      ]
    },
    {
      "cell_type": "code",
      "metadata": {
        "colab": {
          "base_uri": "https://localhost:8080/"
        },
        "id": "c2rgPtLeI20o",
        "outputId": "e44be04e-21f1-42c2-b211-9dd18b59e0ab"
      },
      "source": [
        "score = accuracy_score(y_test, predictions)\n",
        "score"
      ],
      "execution_count": 149,
      "outputs": [
        {
          "output_type": "execute_result",
          "data": {
            "text/plain": [
              "0.8051948051948052"
            ]
          },
          "metadata": {
            "tags": []
          },
          "execution_count": 149
        }
      ]
    },
    {
      "cell_type": "code",
      "metadata": {
        "colab": {
          "base_uri": "https://localhost:8080/"
        },
        "id": "uKUIu-vKNdSP",
        "outputId": "29ced59b-8545-4b10-840e-328af27c4755"
      },
      "source": [
        "from sklearn.metrics import classification_report\n",
        "\n",
        "print(classification_report(y_test, predictions))"
      ],
      "execution_count": 150,
      "outputs": [
        {
          "output_type": "stream",
          "text": [
            "              precision    recall  f1-score   support\n",
            "\n",
            "           0       0.88      0.83      0.86       107\n",
            "           1       0.66      0.74      0.70        47\n",
            "\n",
            "    accuracy                           0.81       154\n",
            "   macro avg       0.77      0.79      0.78       154\n",
            "weighted avg       0.81      0.81      0.81       154\n",
            "\n"
          ],
          "name": "stdout"
        }
      ]
    },
    {
      "cell_type": "code",
      "metadata": {
        "colab": {
          "base_uri": "https://localhost:8080/",
          "height": 283
        },
        "id": "tGNjB7ZJNiuw",
        "outputId": "360fdf65-a871-4a6c-e8f2-5507db77b8dd"
      },
      "source": [
        "fpr, tpr, threshold = roc_curve(y_test, predictions)\n",
        "\n",
        "roc_auc = auc(fpr, tpr)\n",
        "\n",
        "\n",
        "plt.plot(fpr, tpr, 'b', label = 'AUC = %0.2f' % roc_auc)\n",
        "plt.legend(loc = 'lower right')\n",
        "plt.plot([0, 1], [0, 1],'r--')\n",
        "plt.xlim([0, 1])\n",
        "plt.ylim([0, 1])\n",
        "plt.ylabel('True Positive Rate')\n",
        "plt.xlabel('False Positive Rate')\n",
        "plt.show()"
      ],
      "execution_count": 151,
      "outputs": [
        {
          "output_type": "display_data",
          "data": {
            "image/png": "[encoded data removed]",
            "text/plain": [
              "<Figure size 432x288 with 1 Axes>"
            ]
          },
          "metadata": {
            "tags": [],
            "needs_background": "light"
          }
        }
      ]
    },
    {
      "cell_type": "code",
      "metadata": {
        "id": "Quf5hVXaORTi",
        "colab": {
          "base_uri": "https://localhost:8080/"
        },
        "outputId": "ee3a531f-9c94-4202-c3bf-03df21201db8"
      },
      "source": [
        "## Predict in new data\n",
        "list(df.iloc[0,:-1])"
      ],
      "execution_count": 152,
      "outputs": [
        {
          "output_type": "execute_result",
          "data": {
            "text/plain": [
              "[6.0, 148.0, 72.0, 35.0, 0.0, 33.6, 0.627, 50.0]"
            ]
          },
          "metadata": {
            "tags": []
          },
          "execution_count": 152
        }
      ]
    },
    {
      "cell_type": "code",
      "metadata": {
        "id": "zYfpY7s7XqmH"
      },
      "source": [
        "lst = [6.0, 130.0, 72.0, 55.0, 0.0, 29.6, 0.627, 40.0]  "
      ],
      "execution_count": 153,
      "outputs": []
    },
    {
      "cell_type": "code",
      "metadata": {
        "id": "Et7JY8JtXqcO"
      },
      "source": [
        "new_data = torch.Tensor(lst)"
      ],
      "execution_count": 154,
      "outputs": []
    },
    {
      "cell_type": "code",
      "metadata": {
        "colab": {
          "base_uri": "https://localhost:8080/"
        },
        "id": "5OJjv_imX4Yj",
        "outputId": "90d0b8ce-ab36-451c-d899-58aa05c5b65e"
      },
      "source": [
        "with torch.no_grad():\n",
        "    pred = model(new_data)\n",
        "    f_pred = pred.argmax().item()\n",
        "    \n",
        "f_pred"
      ],
      "execution_count": 155,
      "outputs": [
        {
          "output_type": "execute_result",
          "data": {
            "text/plain": [
              "1"
            ]
          },
          "metadata": {
            "tags": []
          },
          "execution_count": 155
        }
      ]
    },
    {
      "cell_type": "code",
      "metadata": {
        "id": "LukoOfNnJfRD"
      },
      "source": [
        "### Save the Model\n",
        "torch.save(model, \"diabetes.pt\")"
      ],
      "execution_count": 156,
      "outputs": []
    }
  ]
}